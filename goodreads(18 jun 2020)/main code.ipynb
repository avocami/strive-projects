{
 "cells": [
  {
   "cell_type": "code",
   "metadata": {
    "tags": [],
    "cell_id": "00000-d1f2f64a-bdd9-4a33-b356-2388f623503a",
    "deepnote_to_be_reexecuted": false,
    "source_hash": "1b814dd2",
    "execution_start": 1624012015228,
    "execution_millis": 23,
    "deepnote_cell_type": "code"
   },
   "source": "import pandas as pd\nimport numpy as np\n",
   "outputs": [],
   "execution_count": 2
  },
  {
   "cell_type": "code",
   "source": "df = pd.read_csv ('dataset.csv')",
   "metadata": {
    "tags": [],
    "cell_id": "00001-731d197e-e146-4cc2-87b8-44db51441a6a",
    "deepnote_to_be_reexecuted": false,
    "source_hash": "a99f050f",
    "execution_start": 1624012023390,
    "execution_millis": 13,
    "deepnote_cell_type": "code"
   },
   "outputs": [],
   "execution_count": 3
  },
  {
   "cell_type": "code",
   "source": "df.info()",
   "metadata": {
    "tags": [],
    "cell_id": "00002-7c994392-df0f-4319-b56f-9f7afdcd013d",
    "deepnote_to_be_reexecuted": false,
    "source_hash": "de1e323c",
    "execution_start": 1624012340909,
    "execution_millis": 13,
    "deepnote_cell_type": "code"
   },
   "outputs": [
    {
     "name": "stdout",
     "text": "<class 'pandas.core.frame.DataFrame'>\nRangeIndex: 614 entries, 0 to 613\nData columns (total 14 columns):\n #   Column                 Non-Null Count  Dtype  \n---  ------                 --------------  -----  \n 0   Unnamed: 0             614 non-null    int64  \n 1   url                    614 non-null    object \n 2   title                  614 non-null    object \n 3   author                 614 non-null    object \n 4   num_reviews            614 non-null    int64  \n 5   num_ratings            614 non-null    int64  \n 6   avg_rating             614 non-null    float64\n 7   num_pages              614 non-null    int64  \n 8   original_publish_year  614 non-null    int64  \n 9   series                 614 non-null    bool   \n 10  genres                 614 non-null    object \n 11  awards                 614 non-null    object \n 12  places                 314 non-null    object \n 13  awards_count           614 non-null    int64  \ndtypes: bool(1), float64(1), int64(6), object(6)\nmemory usage: 63.1+ KB\n",
     "output_type": "stream"
    }
   ],
   "execution_count": 11
  },
  {
   "cell_type": "code",
   "source": "df.isnull().sum()",
   "metadata": {
    "tags": [],
    "cell_id": "00003-e64808dc-e815-4318-850e-0accb13751bd",
    "deepnote_to_be_reexecuted": false,
    "source_hash": "f3dd26da",
    "execution_start": 1624012365956,
    "execution_millis": 8,
    "deepnote_cell_type": "code"
   },
   "outputs": [
    {
     "output_type": "execute_result",
     "execution_count": 13,
     "data": {
      "text/plain": "Unnamed: 0                 0\nurl                        0\ntitle                      0\nauthor                     0\nnum_reviews                0\nnum_ratings                0\navg_rating                 0\nnum_pages                  0\noriginal_publish_year      0\nseries                     0\ngenres                     0\nawards                     0\nplaces                   300\nawards_count               0\ndtype: int64"
     },
     "metadata": {}
    }
   ],
   "execution_count": 13
  },
  {
   "cell_type": "code",
   "source": "df.describe()\n",
   "metadata": {
    "tags": [],
    "cell_id": "00002-1509990c-12f5-4d3c-a936-a8ebe58eaea0",
    "deepnote_to_be_reexecuted": false,
    "source_hash": "abc4be1",
    "execution_start": 1624012318422,
    "execution_millis": 10,
    "deepnote_cell_type": "code"
   },
   "outputs": [
    {
     "output_type": "execute_result",
     "execution_count": 10,
     "data": {
      "application/vnd.deepnote.dataframe.v2+json": {
       "row_count": 8,
       "column_count": 7,
       "columns": [
        {
         "name": "Unnamed: 0",
         "dtype": "float64",
         "stats": {
          "unique_count": 7,
          "nan_count": 0,
          "min": "0.0",
          "max": "614.0",
          "histogram": [
           {
            "bin_start": 0,
            "bin_end": 61.4,
            "count": 1
           },
           {
            "bin_start": 61.4,
            "bin_end": 122.8,
            "count": 0
           },
           {
            "bin_start": 122.8,
            "bin_end": 184.2,
            "count": 2
           },
           {
            "bin_start": 184.2,
            "bin_end": 245.6,
            "count": 0
           },
           {
            "bin_start": 245.6,
            "bin_end": 307,
            "count": 2
           },
           {
            "bin_start": 307,
            "bin_end": 368.4,
            "count": 0
           },
           {
            "bin_start": 368.4,
            "bin_end": 429.8,
            "count": 0
           },
           {
            "bin_start": 429.8,
            "bin_end": 491.2,
            "count": 1
           },
           {
            "bin_start": 491.2,
            "bin_end": 552.6,
            "count": 0
           },
           {
            "bin_start": 552.6,
            "bin_end": 614,
            "count": 2
           }
          ]
         }
        },
        {
         "name": "num_reviews",
         "dtype": "float64",
         "stats": {
          "unique_count": 8,
          "nan_count": 0,
          "min": "165.0",
          "max": "119110.0",
          "histogram": [
           {
            "bin_start": 165,
            "bin_end": 12059.5,
            "count": 5
           },
           {
            "bin_start": 12059.5,
            "bin_end": 23954,
            "count": 2
           },
           {
            "bin_start": 23954,
            "bin_end": 35848.5,
            "count": 0
           },
           {
            "bin_start": 35848.5,
            "bin_end": 47743,
            "count": 0
           },
           {
            "bin_start": 47743,
            "bin_end": 59637.5,
            "count": 0
           },
           {
            "bin_start": 59637.5,
            "bin_end": 71532,
            "count": 0
           },
           {
            "bin_start": 71532,
            "bin_end": 83426.5,
            "count": 0
           },
           {
            "bin_start": 83426.5,
            "bin_end": 95321,
            "count": 0
           },
           {
            "bin_start": 95321,
            "bin_end": 107215.5,
            "count": 0
           },
           {
            "bin_start": 107215.5,
            "bin_end": 119110,
            "count": 1
           }
          ]
         }
        },
        {
         "name": "num_ratings",
         "dtype": "float64",
         "stats": {
          "unique_count": 8,
          "nan_count": 0,
          "min": "614.0",
          "max": "7511380.0",
          "histogram": [
           {
            "bin_start": 614,
            "bin_end": 751690.6,
            "count": 6
           },
           {
            "bin_start": 751690.6,
            "bin_end": 1502767.2,
            "count": 1
           },
           {
            "bin_start": 1502767.2,
            "bin_end": 2253843.8,
            "count": 0
           },
           {
            "bin_start": 2253843.8,
            "bin_end": 3004920.4,
            "count": 0
           },
           {
            "bin_start": 3004920.4,
            "bin_end": 3755997,
            "count": 0
           },
           {
            "bin_start": 3755997,
            "bin_end": 4507073.6,
            "count": 0
           },
           {
            "bin_start": 4507073.6,
            "bin_end": 5258150.2,
            "count": 0
           },
           {
            "bin_start": 5258150.2,
            "bin_end": 6009226.8,
            "count": 0
           },
           {
            "bin_start": 6009226.8,
            "bin_end": 6760303.399999999,
            "count": 0
           },
           {
            "bin_start": 6760303.399999999,
            "bin_end": 7511380,
            "count": 1
           }
          ]
         }
        },
        {
         "name": "avg_rating",
         "dtype": "float64",
         "stats": {
          "unique_count": 8,
          "nan_count": 0,
          "min": "0.19044889763177344",
          "max": "614.0",
          "histogram": [
           {
            "bin_start": 0.19044889763177344,
            "bin_end": 61.5714040078686,
            "count": 7
           },
           {
            "bin_start": 61.5714040078686,
            "bin_end": 122.95235911810542,
            "count": 0
           },
           {
            "bin_start": 122.95235911810542,
            "bin_end": 184.33331422834226,
            "count": 0
           },
           {
            "bin_start": 184.33331422834226,
            "bin_end": 245.71426933857907,
            "count": 0
           },
           {
            "bin_start": 245.71426933857907,
            "bin_end": 307.0952244488159,
            "count": 0
           },
           {
            "bin_start": 307.0952244488159,
            "bin_end": 368.47617955905275,
            "count": 0
           },
           {
            "bin_start": 368.47617955905275,
            "bin_end": 429.85713466928956,
            "count": 0
           },
           {
            "bin_start": 429.85713466928956,
            "bin_end": 491.2380897795264,
            "count": 0
           },
           {
            "bin_start": 491.2380897795264,
            "bin_end": 552.6190448897632,
            "count": 0
           },
           {
            "bin_start": 552.6190448897632,
            "bin_end": 614,
            "count": 1
           }
          ]
         }
        },
        {
         "name": "num_pages",
         "dtype": "float64",
         "stats": {
          "unique_count": 8,
          "nan_count": 0,
          "min": "26.0",
          "max": "1796.0",
          "histogram": [
           {
            "bin_start": 26,
            "bin_end": 203,
            "count": 1
           },
           {
            "bin_start": 203,
            "bin_end": 380,
            "count": 3
           },
           {
            "bin_start": 380,
            "bin_end": 557,
            "count": 2
           },
           {
            "bin_start": 557,
            "bin_end": 734,
            "count": 1
           },
           {
            "bin_start": 734,
            "bin_end": 911,
            "count": 0
           },
           {
            "bin_start": 911,
            "bin_end": 1088,
            "count": 0
           },
           {
            "bin_start": 1088,
            "bin_end": 1265,
            "count": 0
           },
           {
            "bin_start": 1265,
            "bin_end": 1442,
            "count": 0
           },
           {
            "bin_start": 1442,
            "bin_end": 1619,
            "count": 0
           },
           {
            "bin_start": 1619,
            "bin_end": 1796,
            "count": 1
           }
          ]
         }
        },
        {
         "name": "original_publish_year",
         "dtype": "float64",
         "stats": {
          "unique_count": 8,
          "nan_count": 0,
          "min": "22.530958427364478",
          "max": "2003.0",
          "histogram": [
           {
            "bin_start": 22.530958427364478,
            "bin_end": 220.57786258462804,
            "count": 1
           },
           {
            "bin_start": 220.57786258462804,
            "bin_end": 418.62476674189156,
            "count": 0
           },
           {
            "bin_start": 418.62476674189156,
            "bin_end": 616.6716708991552,
            "count": 1
           },
           {
            "bin_start": 616.6716708991552,
            "bin_end": 814.7185750564187,
            "count": 0
           },
           {
            "bin_start": 814.7185750564187,
            "bin_end": 1012.7654792136822,
            "count": 0
           },
           {
            "bin_start": 1012.7654792136822,
            "bin_end": 1210.812383370946,
            "count": 0
           },
           {
            "bin_start": 1210.812383370946,
            "bin_end": 1408.8592875282095,
            "count": 0
           },
           {
            "bin_start": 1408.8592875282095,
            "bin_end": 1606.906191685473,
            "count": 0
           },
           {
            "bin_start": 1606.906191685473,
            "bin_end": 1804.9530958427365,
            "count": 0
           },
           {
            "bin_start": 1804.9530958427365,
            "bin_end": 2003,
            "count": 6
           }
          ]
         }
        },
        {
         "name": "awards_count",
         "dtype": "float64",
         "stats": {
          "unique_count": 7,
          "nan_count": 0,
          "min": "1.0",
          "max": "614.0",
          "histogram": [
           {
            "bin_start": 1,
            "bin_end": 62.3,
            "count": 7
           },
           {
            "bin_start": 62.3,
            "bin_end": 123.6,
            "count": 0
           },
           {
            "bin_start": 123.6,
            "bin_end": 184.89999999999998,
            "count": 0
           },
           {
            "bin_start": 184.89999999999998,
            "bin_end": 246.2,
            "count": 0
           },
           {
            "bin_start": 246.2,
            "bin_end": 307.5,
            "count": 0
           },
           {
            "bin_start": 307.5,
            "bin_end": 368.79999999999995,
            "count": 0
           },
           {
            "bin_start": 368.79999999999995,
            "bin_end": 430.09999999999997,
            "count": 0
           },
           {
            "bin_start": 430.09999999999997,
            "bin_end": 491.4,
            "count": 0
           },
           {
            "bin_start": 491.4,
            "bin_end": 552.6999999999999,
            "count": 0
           },
           {
            "bin_start": 552.6999999999999,
            "bin_end": 614,
            "count": 1
           }
          ]
         }
        },
        {
         "name": "_deepnote_index_column",
         "dtype": "object"
        }
       ],
       "rows_top": [
        {
         "Unnamed: 0": 614,
         "num_reviews": 614,
         "num_ratings": 614,
         "avg_rating": 614,
         "num_pages": 614,
         "original_publish_year": 614,
         "awards_count": 614,
         "_deepnote_index_column": "count"
        },
        {
         "Unnamed: 0": 306.5,
         "num_reviews": 10785.221498371335,
         "num_ratings": 388200.0879478827,
         "avg_rating": 4.067899022801303,
         "num_pages": 397.6628664495114,
         "original_publish_year": 1970.2589576547232,
         "awards_count": 2.8029315960912053,
         "_deepnote_index_column": "mean"
        },
        {
         "Unnamed: 0": 177.39081148695385,
         "num_reviews": 15953.357286510392,
         "num_ratings": 783761.5602379414,
         "avg_rating": 0.19044889763177344,
         "num_pages": 258.3738367168076,
         "original_publish_year": 22.530958427364478,
         "awards_count": 2.9661369747914845,
         "_deepnote_index_column": "std"
        },
        {
         "Unnamed: 0": 0,
         "num_reviews": 165,
         "num_ratings": 2815,
         "avg_rating": 3.54,
         "num_pages": 26,
         "original_publish_year": 1901,
         "awards_count": 1,
         "_deepnote_index_column": "min"
        },
        {
         "Unnamed: 0": 153.25,
         "num_reviews": 2130.5,
         "num_ratings": 44477.5,
         "avg_rating": 3.94,
         "num_pages": 225,
         "original_publish_year": 1955,
         "awards_count": 1,
         "_deepnote_index_column": "25%"
        },
        {
         "Unnamed: 0": 306.5,
         "num_reviews": 4883.5,
         "num_ratings": 120391.5,
         "avg_rating": 4.08,
         "num_pages": 331,
         "original_publish_year": 1975,
         "awards_count": 2,
         "_deepnote_index_column": "50%"
        },
        {
         "Unnamed: 0": 459.75,
         "num_reviews": 12211,
         "num_ratings": 354241.75,
         "avg_rating": 4.197500000000001,
         "num_pages": 482.75,
         "original_publish_year": 1989,
         "awards_count": 4,
         "_deepnote_index_column": "75%"
        },
        {
         "Unnamed: 0": 613,
         "num_reviews": 119110,
         "num_ratings": 7511380,
         "avg_rating": 4.57,
         "num_pages": 1796,
         "original_publish_year": 2003,
         "awards_count": 27,
         "_deepnote_index_column": "max"
        }
       ],
       "rows_bottom": null
      },
      "text/plain": "       Unnamed: 0    num_reviews   num_ratings  avg_rating    num_pages  \\\ncount  614.000000     614.000000  6.140000e+02  614.000000   614.000000   \nmean   306.500000   10785.221498  3.882001e+05    4.067899   397.662866   \nstd    177.390811   15953.357287  7.837616e+05    0.190449   258.373837   \nmin      0.000000     165.000000  2.815000e+03    3.540000    26.000000   \n25%    153.250000    2130.500000  4.447750e+04    3.940000   225.000000   \n50%    306.500000    4883.500000  1.203915e+05    4.080000   331.000000   \n75%    459.750000   12211.000000  3.542418e+05    4.197500   482.750000   \nmax    613.000000  119110.000000  7.511380e+06    4.570000  1796.000000   \n\n       original_publish_year  awards_count  \ncount             614.000000    614.000000  \nmean             1970.258958      2.802932  \nstd                22.530958      2.966137  \nmin              1901.000000      1.000000  \n25%              1955.000000      1.000000  \n50%              1975.000000      2.000000  \n75%              1989.000000      4.000000  \nmax              2003.000000     27.000000  ",
      "text/html": "<div>\n<style scoped>\n    .dataframe tbody tr th:only-of-type {\n        vertical-align: middle;\n    }\n\n    .dataframe tbody tr th {\n        vertical-align: top;\n    }\n\n    .dataframe thead th {\n        text-align: right;\n    }\n</style>\n<table border=\"1\" class=\"dataframe\">\n  <thead>\n    <tr style=\"text-align: right;\">\n      <th></th>\n      <th>Unnamed: 0</th>\n      <th>num_reviews</th>\n      <th>num_ratings</th>\n      <th>avg_rating</th>\n      <th>num_pages</th>\n      <th>original_publish_year</th>\n      <th>awards_count</th>\n    </tr>\n  </thead>\n  <tbody>\n    <tr>\n      <th>count</th>\n      <td>614.000000</td>\n      <td>614.000000</td>\n      <td>6.140000e+02</td>\n      <td>614.000000</td>\n      <td>614.000000</td>\n      <td>614.000000</td>\n      <td>614.000000</td>\n    </tr>\n    <tr>\n      <th>mean</th>\n      <td>306.500000</td>\n      <td>10785.221498</td>\n      <td>3.882001e+05</td>\n      <td>4.067899</td>\n      <td>397.662866</td>\n      <td>1970.258958</td>\n      <td>2.802932</td>\n    </tr>\n    <tr>\n      <th>std</th>\n      <td>177.390811</td>\n      <td>15953.357287</td>\n      <td>7.837616e+05</td>\n      <td>0.190449</td>\n      <td>258.373837</td>\n      <td>22.530958</td>\n      <td>2.966137</td>\n    </tr>\n    <tr>\n      <th>min</th>\n      <td>0.000000</td>\n      <td>165.000000</td>\n      <td>2.815000e+03</td>\n      <td>3.540000</td>\n      <td>26.000000</td>\n      <td>1901.000000</td>\n      <td>1.000000</td>\n    </tr>\n    <tr>\n      <th>25%</th>\n      <td>153.250000</td>\n      <td>2130.500000</td>\n      <td>4.447750e+04</td>\n      <td>3.940000</td>\n      <td>225.000000</td>\n      <td>1955.000000</td>\n      <td>1.000000</td>\n    </tr>\n    <tr>\n      <th>50%</th>\n      <td>306.500000</td>\n      <td>4883.500000</td>\n      <td>1.203915e+05</td>\n      <td>4.080000</td>\n      <td>331.000000</td>\n      <td>1975.000000</td>\n      <td>2.000000</td>\n    </tr>\n    <tr>\n      <th>75%</th>\n      <td>459.750000</td>\n      <td>12211.000000</td>\n      <td>3.542418e+05</td>\n      <td>4.197500</td>\n      <td>482.750000</td>\n      <td>1989.000000</td>\n      <td>4.000000</td>\n    </tr>\n    <tr>\n      <th>max</th>\n      <td>613.000000</td>\n      <td>119110.000000</td>\n      <td>7.511380e+06</td>\n      <td>4.570000</td>\n      <td>1796.000000</td>\n      <td>2003.000000</td>\n      <td>27.000000</td>\n    </tr>\n  </tbody>\n</table>\n</div>"
     },
     "metadata": {}
    }
   ],
   "execution_count": 10
  },
  {
   "cell_type": "code",
   "source": "df.head()",
   "metadata": {
    "tags": [],
    "cell_id": "00003-05474db8-ab8d-416a-bb06-a10e425c45bc",
    "deepnote_to_be_reexecuted": false,
    "source_hash": "c085b6ba",
    "execution_start": 1624012097519,
    "execution_millis": 45,
    "deepnote_cell_type": "code"
   },
   "outputs": [
    {
     "output_type": "execute_result",
     "execution_count": 6,
     "data": {
      "application/vnd.deepnote.dataframe.v2+json": {
       "row_count": 5,
       "column_count": 14,
       "columns": [
        {
         "name": "Unnamed: 0",
         "dtype": "int64",
         "stats": {
          "unique_count": 5,
          "nan_count": 0,
          "min": "0",
          "max": "4",
          "histogram": [
           {
            "bin_start": 0,
            "bin_end": 0.4,
            "count": 1
           },
           {
            "bin_start": 0.4,
            "bin_end": 0.8,
            "count": 0
           },
           {
            "bin_start": 0.8,
            "bin_end": 1.2000000000000002,
            "count": 1
           },
           {
            "bin_start": 1.2000000000000002,
            "bin_end": 1.6,
            "count": 0
           },
           {
            "bin_start": 1.6,
            "bin_end": 2,
            "count": 0
           },
           {
            "bin_start": 2,
            "bin_end": 2.4000000000000004,
            "count": 1
           },
           {
            "bin_start": 2.4000000000000004,
            "bin_end": 2.8000000000000003,
            "count": 0
           },
           {
            "bin_start": 2.8000000000000003,
            "bin_end": 3.2,
            "count": 1
           },
           {
            "bin_start": 3.2,
            "bin_end": 3.6,
            "count": 0
           },
           {
            "bin_start": 3.6,
            "bin_end": 4,
            "count": 1
           }
          ]
         }
        },
        {
         "name": "url",
         "dtype": "object",
         "stats": {
          "unique_count": 5,
          "nan_count": 0,
          "categories": [
           {
            "name": "https://www.goodreads.com/book/show/2657.To_Kill_a_Mockingbird",
            "count": 1
           },
           {
            "name": "https://www.goodreads.com/book/show/40961427-1984",
            "count": 1
           },
           {
            "name": "3 others",
            "count": 3
           }
          ]
         }
        },
        {
         "name": "title",
         "dtype": "object",
         "stats": {
          "unique_count": 5,
          "nan_count": 0,
          "categories": [
           {
            "name": "To Kill a Mockingbird",
            "count": 1
           },
           {
            "name": "1984",
            "count": 1
           },
           {
            "name": "3 others",
            "count": 3
           }
          ]
         }
        },
        {
         "name": "author",
         "dtype": "object",
         "stats": {
          "unique_count": 5,
          "nan_count": 0,
          "categories": [
           {
            "name": "Harper Lee",
            "count": 1
           },
           {
            "name": "George Orwell",
            "count": 1
           },
           {
            "name": "3 others",
            "count": 3
           }
          ]
         }
        },
        {
         "name": "num_reviews",
         "dtype": "int64",
         "stats": {
          "unique_count": 5,
          "nan_count": 0,
          "min": "61102",
          "max": "119110",
          "histogram": [
           {
            "bin_start": 61102,
            "bin_end": 66902.8,
            "count": 1
           },
           {
            "bin_start": 66902.8,
            "bin_end": 72703.6,
            "count": 1
           },
           {
            "bin_start": 72703.6,
            "bin_end": 78504.4,
            "count": 1
           },
           {
            "bin_start": 78504.4,
            "bin_end": 84305.2,
            "count": 0
           },
           {
            "bin_start": 84305.2,
            "bin_end": 90106,
            "count": 0
           },
           {
            "bin_start": 90106,
            "bin_end": 95906.8,
            "count": 1
           },
           {
            "bin_start": 95906.8,
            "bin_end": 101707.6,
            "count": 0
           },
           {
            "bin_start": 101707.6,
            "bin_end": 107508.4,
            "count": 0
           },
           {
            "bin_start": 107508.4,
            "bin_end": 113309.20000000001,
            "count": 0
           },
           {
            "bin_start": 113309.20000000001,
            "bin_end": 119110,
            "count": 1
           }
          ]
         }
        },
        {
         "name": "num_ratings",
         "dtype": "int64",
         "stats": {
          "unique_count": 5,
          "nan_count": 0,
          "min": "2911765",
          "max": "7511380",
          "histogram": [
           {
            "bin_start": 2911765,
            "bin_end": 3371726.5,
            "count": 2
           },
           {
            "bin_start": 3371726.5,
            "bin_end": 3831688,
            "count": 0
           },
           {
            "bin_start": 3831688,
            "bin_end": 4291649.5,
            "count": 1
           },
           {
            "bin_start": 4291649.5,
            "bin_end": 4751611,
            "count": 0
           },
           {
            "bin_start": 4751611,
            "bin_end": 5211572.5,
            "count": 1
           },
           {
            "bin_start": 5211572.5,
            "bin_end": 5671534,
            "count": 0
           },
           {
            "bin_start": 5671534,
            "bin_end": 6131495.5,
            "count": 0
           },
           {
            "bin_start": 6131495.5,
            "bin_end": 6591457,
            "count": 0
           },
           {
            "bin_start": 6591457,
            "bin_end": 7051418.5,
            "count": 0
           },
           {
            "bin_start": 7051418.5,
            "bin_end": 7511380,
            "count": 1
           }
          ]
         }
        },
        {
         "name": "avg_rating",
         "dtype": "float64",
         "stats": {
          "unique_count": 5,
          "nan_count": 0,
          "min": "3.93",
          "max": "4.48",
          "histogram": [
           {
            "bin_start": 3.93,
            "bin_end": 3.9850000000000003,
            "count": 2
           },
           {
            "bin_start": 3.9850000000000003,
            "bin_end": 4.04,
            "count": 0
           },
           {
            "bin_start": 4.04,
            "bin_end": 4.095000000000001,
            "count": 0
           },
           {
            "bin_start": 4.095000000000001,
            "bin_end": 4.15,
            "count": 0
           },
           {
            "bin_start": 4.15,
            "bin_end": 4.205,
            "count": 1
           },
           {
            "bin_start": 4.205,
            "bin_end": 4.260000000000001,
            "count": 0
           },
           {
            "bin_start": 4.260000000000001,
            "bin_end": 4.315,
            "count": 1
           },
           {
            "bin_start": 4.315,
            "bin_end": 4.37,
            "count": 0
           },
           {
            "bin_start": 4.37,
            "bin_end": 4.425000000000001,
            "count": 0
           },
           {
            "bin_start": 4.425000000000001,
            "bin_end": 4.48,
            "count": 1
           }
          ]
         }
        },
        {
         "name": "num_pages",
         "dtype": "int64",
         "stats": {
          "unique_count": 5,
          "nan_count": 0,
          "min": "141",
          "max": "324",
          "histogram": [
           {
            "bin_start": 141,
            "bin_end": 159.3,
            "count": 1
           },
           {
            "bin_start": 159.3,
            "bin_end": 177.6,
            "count": 0
           },
           {
            "bin_start": 177.6,
            "bin_end": 195.9,
            "count": 0
           },
           {
            "bin_start": 195.9,
            "bin_end": 214.2,
            "count": 1
           },
           {
            "bin_start": 214.2,
            "bin_end": 232.5,
            "count": 0
           },
           {
            "bin_start": 232.5,
            "bin_end": 250.8,
            "count": 1
           },
           {
            "bin_start": 250.8,
            "bin_end": 269.1,
            "count": 0
           },
           {
            "bin_start": 269.1,
            "bin_end": 287.4,
            "count": 0
           },
           {
            "bin_start": 287.4,
            "bin_end": 305.70000000000005,
            "count": 0
           },
           {
            "bin_start": 305.70000000000005,
            "bin_end": 324,
            "count": 2
           }
          ]
         }
        },
        {
         "name": "original_publish_year",
         "dtype": "int64",
         "stats": {
          "unique_count": 5,
          "nan_count": 0,
          "min": "1925",
          "max": "1997",
          "histogram": [
           {
            "bin_start": 1925,
            "bin_end": 1932.2,
            "count": 1
           },
           {
            "bin_start": 1932.2,
            "bin_end": 1939.4,
            "count": 0
           },
           {
            "bin_start": 1939.4,
            "bin_end": 1946.6,
            "count": 1
           },
           {
            "bin_start": 1946.6,
            "bin_end": 1953.8,
            "count": 1
           },
           {
            "bin_start": 1953.8,
            "bin_end": 1961,
            "count": 1
           },
           {
            "bin_start": 1961,
            "bin_end": 1968.2,
            "count": 0
           },
           {
            "bin_start": 1968.2,
            "bin_end": 1975.4,
            "count": 0
           },
           {
            "bin_start": 1975.4,
            "bin_end": 1982.6,
            "count": 0
           },
           {
            "bin_start": 1982.6,
            "bin_end": 1989.8,
            "count": 0
           },
           {
            "bin_start": 1989.8,
            "bin_end": 1997,
            "count": 1
           }
          ]
         }
        },
        {
         "name": "series",
         "dtype": "bool",
         "stats": {
          "unique_count": 2,
          "nan_count": 0,
          "categories": [
           {
            "name": "False",
            "count": 3
           },
           {
            "name": "True",
            "count": 2
           }
          ]
         }
        },
        {
         "name": "genres",
         "dtype": "object",
         "stats": {
          "unique_count": 4,
          "nan_count": 0,
          "categories": [
           {
            "name": "['Classics', 'Fiction', 'Science Fiction']",
            "count": 2
           },
           {
            "name": "['Classics', 'Fiction', 'Historical']",
            "count": 1
           },
           {
            "name": "2 others",
            "count": 2
           }
          ]
         }
        },
        {
         "name": "awards",
         "dtype": "object",
         "stats": {
          "unique_count": 5,
          "nan_count": 0,
          "categories": [
           {
            "name": "Pulitzer Prize for Fiction (1961), Audie Award for Classic (2007), National Book Award Finalist for Fiction (1961), Alabama Author Award for Fiction (1961)",
            "count": 1
           },
           {
            "name": "Prometheus Hall of Fame Award (1984), Locus Award Nominee for All-Time Best Science Fiction Novel (1987)",
            "count": 1
           },
           {
            "name": "3 others",
            "count": 3
           }
          ]
         }
        },
        {
         "name": "places",
         "dtype": "object",
         "stats": {
          "unique_count": 2,
          "nan_count": 1,
          "categories": [
           {
            "name": "United States",
            "count": 2
           },
           {
            "name": "United Kingdom",
            "count": 2
           },
           {
            "name": "Missing",
            "count": 1
           }
          ]
         }
        },
        {
         "name": "awards_count",
         "dtype": "int64",
         "stats": {
          "unique_count": 3,
          "nan_count": 0,
          "min": "2",
          "max": "27",
          "histogram": [
           {
            "bin_start": 2,
            "bin_end": 4.5,
            "count": 4
           },
           {
            "bin_start": 4.5,
            "bin_end": 7,
            "count": 0
           },
           {
            "bin_start": 7,
            "bin_end": 9.5,
            "count": 0
           },
           {
            "bin_start": 9.5,
            "bin_end": 12,
            "count": 0
           },
           {
            "bin_start": 12,
            "bin_end": 14.5,
            "count": 0
           },
           {
            "bin_start": 14.5,
            "bin_end": 17,
            "count": 0
           },
           {
            "bin_start": 17,
            "bin_end": 19.5,
            "count": 0
           },
           {
            "bin_start": 19.5,
            "bin_end": 22,
            "count": 0
           },
           {
            "bin_start": 22,
            "bin_end": 24.5,
            "count": 0
           },
           {
            "bin_start": 24.5,
            "bin_end": 27,
            "count": 1
           }
          ]
         }
        },
        {
         "name": "_deepnote_index_column",
         "dtype": "int64"
        }
       ],
       "rows_top": [
        {
         "Unnamed: 0": 0,
         "url": "https://www.goodreads.com/book/show/2657.To_Kill_a_Mockingbird",
         "title": "To Kill a Mockingbird",
         "author": "Harper Lee",
         "num_reviews": 95178,
         "num_ratings": 4751916,
         "avg_rating": 4.28,
         "num_pages": 324,
         "original_publish_year": 1960,
         "series": "True",
         "genres": "['Classics', 'Fiction', 'Historical']",
         "awards": "Pulitzer Prize for Fiction (1961), Audie Award for Classic (2007), National Book Award Finalist for…",
         "places": "United States",
         "awards_count": 4,
         "_deepnote_index_column": 0
        },
        {
         "Unnamed: 0": 1,
         "url": "https://www.goodreads.com/book/show/40961427-1984",
         "title": "1984",
         "author": "George Orwell",
         "num_reviews": 76077,
         "num_ratings": 3365418,
         "avg_rating": 4.19,
         "num_pages": 237,
         "original_publish_year": 1949,
         "series": "False",
         "genres": "['Classics', 'Fiction', 'Science Fiction']",
         "awards": "Prometheus Hall of Fame Award (1984), Locus Award Nominee for All-Time Best Science Fiction Novel (…",
         "places": "United Kingdom",
         "awards_count": 2,
         "_deepnote_index_column": 1
        },
        {
         "Unnamed: 0": 2,
         "url": "https://www.goodreads.com/book/show/3.Harry_Potter_and_the_Sorcerer_s_Stone",
         "title": "Harry Potter and the Sorcerer's Stone",
         "author": "J.K. Rowling, ",
         "num_reviews": 119110,
         "num_ratings": 7511380,
         "avg_rating": 4.48,
         "num_pages": 309,
         "original_publish_year": 1997,
         "series": "True",
         "genres": "['Fantasy', 'Fiction', 'Young Adult']",
         "awards": "Mythopoeic Fantasy Award for Children's Literature (2008), British Book Award for Children's Book o…",
         "places": "United Kingdom",
         "awards_count": 27,
         "_deepnote_index_column": 2
        },
        {
         "Unnamed: 0": 3,
         "url": "https://www.goodreads.com/book/show/4671.The_Great_Gatsby",
         "title": "The Great Gatsby",
         "author": "F. Scott Fitzgerald, ",
         "num_reviews": 71655,
         "num_ratings": 3980916,
         "avg_rating": 3.93,
         "num_pages": 200,
         "original_publish_year": 1925,
         "series": "False",
         "genres": "['Classics', 'Fiction', 'Academic']",
         "awards": "Grammy Award Nominee for Best Spoken Word Album (2003), Long Island Reads (2002)",
         "places": "United States",
         "awards_count": 2,
         "_deepnote_index_column": 3
        },
        {
         "Unnamed: 0": 4,
         "url": "https://www.goodreads.com/book/show/170448.Animal_Farm",
         "title": "Animal Farm",
         "author": "George Orwell, ",
         "num_reviews": 61102,
         "num_ratings": 2911765,
         "avg_rating": 3.96,
         "num_pages": 141,
         "original_publish_year": 1945,
         "series": "False",
         "genres": "['Classics', 'Fiction', 'Science Fiction']",
         "awards": "Prometheus Hall of Fame Award (2011), Retro Hugo Award for Best Novella (1996)",
         "places": "nan",
         "awards_count": 2,
         "_deepnote_index_column": 4
        }
       ],
       "rows_bottom": null
      },
      "text/plain": "   Unnamed: 0                                                url  \\\n0           0  https://www.goodreads.com/book/show/2657.To_Ki...   \n1           1  https://www.goodreads.com/book/show/40961427-1984   \n2           2  https://www.goodreads.com/book/show/3.Harry_Po...   \n3           3  https://www.goodreads.com/book/show/4671.The_G...   \n4           4  https://www.goodreads.com/book/show/170448.Ani...   \n\n                                   title                 author  num_reviews  \\\n0                  To Kill a Mockingbird             Harper Lee        95178   \n1                                   1984          George Orwell        76077   \n2  Harry Potter and the Sorcerer's Stone         J.K. Rowling,        119110   \n3                       The Great Gatsby  F. Scott Fitzgerald,         71655   \n4                            Animal Farm        George Orwell,         61102   \n\n   num_ratings  avg_rating  num_pages  original_publish_year  series  \\\n0      4751916        4.28        324                   1960    True   \n1      3365418        4.19        237                   1949   False   \n2      7511380        4.48        309                   1997    True   \n3      3980916        3.93        200                   1925   False   \n4      2911765        3.96        141                   1945   False   \n\n                                       genres  \\\n0       ['Classics', 'Fiction', 'Historical']   \n1  ['Classics', 'Fiction', 'Science Fiction']   \n2       ['Fantasy', 'Fiction', 'Young Adult']   \n3         ['Classics', 'Fiction', 'Academic']   \n4  ['Classics', 'Fiction', 'Science Fiction']   \n\n                                              awards          places  \\\n0  Pulitzer Prize for Fiction (1961), Audie Award...   United States   \n1  Prometheus Hall of Fame Award (1984), Locus Aw...  United Kingdom   \n2  Mythopoeic Fantasy Award for Children's Litera...  United Kingdom   \n3  Grammy Award Nominee for Best Spoken Word Albu...   United States   \n4  Prometheus Hall of Fame Award (2011), Retro Hu...             NaN   \n\n   awards_count  \n0             4  \n1             2  \n2            27  \n3             2  \n4             2  ",
      "text/html": "<div>\n<style scoped>\n    .dataframe tbody tr th:only-of-type {\n        vertical-align: middle;\n    }\n\n    .dataframe tbody tr th {\n        vertical-align: top;\n    }\n\n    .dataframe thead th {\n        text-align: right;\n    }\n</style>\n<table border=\"1\" class=\"dataframe\">\n  <thead>\n    <tr style=\"text-align: right;\">\n      <th></th>\n      <th>Unnamed: 0</th>\n      <th>url</th>\n      <th>title</th>\n      <th>author</th>\n      <th>num_reviews</th>\n      <th>num_ratings</th>\n      <th>avg_rating</th>\n      <th>num_pages</th>\n      <th>original_publish_year</th>\n      <th>series</th>\n      <th>genres</th>\n      <th>awards</th>\n      <th>places</th>\n      <th>awards_count</th>\n    </tr>\n  </thead>\n  <tbody>\n    <tr>\n      <th>0</th>\n      <td>0</td>\n      <td>https://www.goodreads.com/book/show/2657.To_Ki...</td>\n      <td>To Kill a Mockingbird</td>\n      <td>Harper Lee</td>\n      <td>95178</td>\n      <td>4751916</td>\n      <td>4.28</td>\n      <td>324</td>\n      <td>1960</td>\n      <td>True</td>\n      <td>['Classics', 'Fiction', 'Historical']</td>\n      <td>Pulitzer Prize for Fiction (1961), Audie Award...</td>\n      <td>United States</td>\n      <td>4</td>\n    </tr>\n    <tr>\n      <th>1</th>\n      <td>1</td>\n      <td>https://www.goodreads.com/book/show/40961427-1984</td>\n      <td>1984</td>\n      <td>George Orwell</td>\n      <td>76077</td>\n      <td>3365418</td>\n      <td>4.19</td>\n      <td>237</td>\n      <td>1949</td>\n      <td>False</td>\n      <td>['Classics', 'Fiction', 'Science Fiction']</td>\n      <td>Prometheus Hall of Fame Award (1984), Locus Aw...</td>\n      <td>United Kingdom</td>\n      <td>2</td>\n    </tr>\n    <tr>\n      <th>2</th>\n      <td>2</td>\n      <td>https://www.goodreads.com/book/show/3.Harry_Po...</td>\n      <td>Harry Potter and the Sorcerer's Stone</td>\n      <td>J.K. Rowling,</td>\n      <td>119110</td>\n      <td>7511380</td>\n      <td>4.48</td>\n      <td>309</td>\n      <td>1997</td>\n      <td>True</td>\n      <td>['Fantasy', 'Fiction', 'Young Adult']</td>\n      <td>Mythopoeic Fantasy Award for Children's Litera...</td>\n      <td>United Kingdom</td>\n      <td>27</td>\n    </tr>\n    <tr>\n      <th>3</th>\n      <td>3</td>\n      <td>https://www.goodreads.com/book/show/4671.The_G...</td>\n      <td>The Great Gatsby</td>\n      <td>F. Scott Fitzgerald,</td>\n      <td>71655</td>\n      <td>3980916</td>\n      <td>3.93</td>\n      <td>200</td>\n      <td>1925</td>\n      <td>False</td>\n      <td>['Classics', 'Fiction', 'Academic']</td>\n      <td>Grammy Award Nominee for Best Spoken Word Albu...</td>\n      <td>United States</td>\n      <td>2</td>\n    </tr>\n    <tr>\n      <th>4</th>\n      <td>4</td>\n      <td>https://www.goodreads.com/book/show/170448.Ani...</td>\n      <td>Animal Farm</td>\n      <td>George Orwell,</td>\n      <td>61102</td>\n      <td>2911765</td>\n      <td>3.96</td>\n      <td>141</td>\n      <td>1945</td>\n      <td>False</td>\n      <td>['Classics', 'Fiction', 'Science Fiction']</td>\n      <td>Prometheus Hall of Fame Award (2011), Retro Hu...</td>\n      <td>NaN</td>\n      <td>2</td>\n    </tr>\n  </tbody>\n</table>\n</div>"
     },
     "metadata": {}
    }
   ],
   "execution_count": 6
  },
  {
   "cell_type": "code",
   "source": "df.dtypes",
   "metadata": {
    "tags": [],
    "cell_id": "00005-473e2a95-9f68-4097-89d9-a0730c9a854c",
    "deepnote_to_be_reexecuted": false,
    "source_hash": "52430027",
    "execution_start": 1624012355376,
    "execution_millis": 10,
    "deepnote_cell_type": "code"
   },
   "outputs": [
    {
     "output_type": "execute_result",
     "execution_count": 12,
     "data": {
      "text/plain": "Unnamed: 0                 int64\nurl                       object\ntitle                     object\nauthor                    object\nnum_reviews                int64\nnum_ratings                int64\navg_rating               float64\nnum_pages                  int64\noriginal_publish_year      int64\nseries                      bool\ngenres                    object\nawards                    object\nplaces                    object\nawards_count               int64\ndtype: object"
     },
     "metadata": {}
    }
   ],
   "execution_count": 12
  },
  {
   "cell_type": "markdown",
   "source": "# Preprocessing",
   "metadata": {
    "tags": [],
    "cell_id": "00007-da4bd45a-b522-4c9b-8f38-03a959682708",
    "deepnote_cell_type": "text-cell-h1"
   }
  },
  {
   "cell_type": "code",
   "source": "",
   "metadata": {
    "deepnote_variable_name": "input_1",
    "deepnote_variable_value": "Hi guys. min max raintg is done",
    "cell_id": "00007-860d70da-5cb0-4091-89d3-77c391544d6c",
    "deepnote_to_be_reexecuted": false,
    "source_hash": "15a6efb3",
    "execution_start": 1624014236170,
    "execution_millis": 3,
    "deepnote_cell_type": "input-text"
   },
   "outputs": [],
   "execution_count": 16
  },
  {
   "cell_type": "markdown",
   "source": "## ",
   "metadata": {
    "tags": [],
    "cell_id": "00009-22831780-e803-4708-ab8f-44eae14b115b",
    "deepnote_cell_type": "text-cell-h2"
   }
  },
  {
   "cell_type": "code",
   "source": "\ndf_min_max_scaled = df[['avg_rating']].copy()\n\nfor column in df_min_max_scaled.columns:\n    df_min_max_scaled['avg_rating'] = (df_min_max_scaled['avg_rating'] - df_min_max_scaled['avg_rating'].min()) / (df_min_max_scaled['avg_rating'].max() - df_min_max_scaled['avg_rating'].min())    \n\nprint(df_min_max_scaled)",
   "metadata": {
    "tags": [],
    "cell_id": "00007-52c0cec7-b4aa-45f0-9f92-abbabffd99ec",
    "deepnote_to_be_reexecuted": false,
    "source_hash": "80750fb2",
    "execution_start": 1624014391758,
    "execution_millis": 6,
    "deepnote_cell_type": "code"
   },
   "outputs": [
    {
     "name": "stdout",
     "text": "     avg_rating\n0      0.718447\n1      0.631068\n2      0.912621\n3      0.378641\n4      0.407767\n..          ...\n609    0.601942\n610    0.533981\n611    0.611650\n612    0.466019\n613    0.563107\n\n[614 rows x 1 columns]\n",
     "output_type": "stream"
    }
   ],
   "execution_count": 25
  },
  {
   "cell_type": "code",
   "source": "",
   "metadata": {
    "tags": [],
    "cell_id": "00011-bdb28b2a-7003-4efc-a8b7-977ccfd23a12",
    "deepnote_cell_type": "code"
   },
   "outputs": [],
   "execution_count": null
  },
  {
   "cell_type": "markdown",
   "source": "<a style='text-decoration:none;line-height:16px;display:flex;color:#5B5B62;padding:10px;justify-content:end;' href='https://deepnote.com?utm_source=created-in-deepnote-cell&projectId=ea77beab-a0d0-4c78-9888-3fa264f1f591' target=\"_blank\">\n<img alt='Created in deepnote.com' style='display:inline;max-height:16px;margin:0px;margin-right:7.5px;' src='data:image/svg+xml;base64,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' > </img>\nCreated in <span style='font-weight:600;margin-left:4px;'>Deepnote</span></a>",
   "metadata": {
    "tags": [],
    "created_in_deepnote_cell": true,
    "deepnote_cell_type": "markdown"
   }
  }
 ],
 "nbformat": 4,
 "nbformat_minor": 2,
 "metadata": {
  "orig_nbformat": 2,
  "deepnote": {
   "is_reactive": false
  },
  "deepnote_notebook_id": "a0f4d0e0-b6e1-46ab-ae0c-81a4192d19e9",
  "deepnote_execution_queue": []
 }
}