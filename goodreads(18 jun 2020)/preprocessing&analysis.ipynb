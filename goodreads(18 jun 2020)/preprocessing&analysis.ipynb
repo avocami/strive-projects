{
 "cells": [
  {
   "cell_type": "code",
   "metadata": {
    "tags": [],
    "cell_id": "00000-36d329e7-de01-4605-b75d-1827898e193e",
    "deepnote_to_be_reexecuted": false,
    "source_hash": "226eac3",
    "execution_start": 1624014267648,
    "execution_millis": 1299,
    "deepnote_cell_type": "code"
   },
   "source": "import pandas as pd\nimport numpy as np\nimport seaborn as sns",
   "outputs": [],
   "execution_count": 25
  },
  {
   "cell_type": "code",
   "source": "# df = pd.read_csv ('dataset.csv')\ndf.groupby(['awards_count']).sum()",
   "metadata": {
    "tags": [],
    "cell_id": "00001-8a6e67f0-0ee9-4bef-95b0-e26f15240b5b",
    "deepnote_to_be_reexecuted": false,
    "source_hash": "529d3db6",
    "execution_start": 1624026546313,
    "execution_millis": 51,
    "deepnote_cell_type": "code"
   },
   "outputs": [
    {
     "output_type": "execute_result",
     "execution_count": 127,
     "data": {
      "application/vnd.deepnote.dataframe.v2+json": {
       "row_count": 16,
       "column_count": 7,
       "columns": [
        {
         "name": "Unnamed: 0",
         "dtype": "int64",
         "stats": {
          "unique_count": 16,
          "nan_count": 0,
          "min": "74",
          "max": "83138",
          "histogram": [
           {
            "bin_start": 74,
            "bin_end": 8380.4,
            "count": 11
           },
           {
            "bin_start": 8380.4,
            "bin_end": 16686.8,
            "count": 1
           },
           {
            "bin_start": 16686.8,
            "bin_end": 24993.199999999997,
            "count": 2
           },
           {
            "bin_start": 24993.199999999997,
            "bin_end": 33299.6,
            "count": 0
           },
           {
            "bin_start": 33299.6,
            "bin_end": 41606,
            "count": 1
           },
           {
            "bin_start": 41606,
            "bin_end": 49912.399999999994,
            "count": 0
           },
           {
            "bin_start": 49912.399999999994,
            "bin_end": 58218.799999999996,
            "count": 0
           },
           {
            "bin_start": 58218.799999999996,
            "bin_end": 66525.2,
            "count": 0
           },
           {
            "bin_start": 66525.2,
            "bin_end": 74831.59999999999,
            "count": 0
           },
           {
            "bin_start": 74831.59999999999,
            "bin_end": 83138,
            "count": 1
           }
          ]
         }
        },
        {
         "name": "num_reviews",
         "dtype": "int64",
         "stats": {
          "unique_count": 16,
          "nan_count": 0,
          "min": "4963",
          "max": "1616369",
          "histogram": [
           {
            "bin_start": 4963,
            "bin_end": 166103.6,
            "count": 8
           },
           {
            "bin_start": 166103.6,
            "bin_end": 327244.2,
            "count": 3
           },
           {
            "bin_start": 327244.2,
            "bin_end": 488384.80000000005,
            "count": 1
           },
           {
            "bin_start": 488384.80000000005,
            "bin_end": 649525.4,
            "count": 0
           },
           {
            "bin_start": 649525.4,
            "bin_end": 810666,
            "count": 1
           },
           {
            "bin_start": 810666,
            "bin_end": 971806.6000000001,
            "count": 0
           },
           {
            "bin_start": 971806.6000000001,
            "bin_end": 1132947.2,
            "count": 1
           },
           {
            "bin_start": 1132947.2,
            "bin_end": 1294087.8,
            "count": 0
           },
           {
            "bin_start": 1294087.8,
            "bin_end": 1455228.4000000001,
            "count": 0
           },
           {
            "bin_start": 1455228.4000000001,
            "bin_end": 1616369,
            "count": 2
           }
          ]
         }
        },
        {
         "name": "num_ratings",
         "dtype": "int64",
         "stats": {
          "unique_count": 16,
          "nan_count": 0,
          "min": "65081",
          "max": "56677348",
          "histogram": [
           {
            "bin_start": 65081,
            "bin_end": 5726307.7,
            "count": 8
           },
           {
            "bin_start": 5726307.7,
            "bin_end": 11387534.4,
            "count": 2
           },
           {
            "bin_start": 11387534.4,
            "bin_end": 17048761.1,
            "count": 2
           },
           {
            "bin_start": 17048761.1,
            "bin_end": 22709987.8,
            "count": 0
           },
           {
            "bin_start": 22709987.8,
            "bin_end": 28371214.5,
            "count": 1
           },
           {
            "bin_start": 28371214.5,
            "bin_end": 34032441.2,
            "count": 0
           },
           {
            "bin_start": 34032441.2,
            "bin_end": 39693667.9,
            "count": 1
           },
           {
            "bin_start": 39693667.9,
            "bin_end": 45354894.6,
            "count": 0
           },
           {
            "bin_start": 45354894.6,
            "bin_end": 51016121.300000004,
            "count": 0
           },
           {
            "bin_start": 51016121.300000004,
            "bin_end": 56677348,
            "count": 2
           }
          ]
         }
        },
        {
         "name": "avg_rating",
         "dtype": "float64",
         "stats": {
          "unique_count": 16,
          "nan_count": 0,
          "min": "3.95",
          "max": "1015.3299999999994",
          "histogram": [
           {
            "bin_start": 3.95,
            "bin_end": 105.08799999999994,
            "count": 11
           },
           {
            "bin_start": 105.08799999999994,
            "bin_end": 206.22599999999986,
            "count": 0
           },
           {
            "bin_start": 206.22599999999986,
            "bin_end": 307.3639999999998,
            "count": 3
           },
           {
            "bin_start": 307.3639999999998,
            "bin_end": 408.5019999999997,
            "count": 0
           },
           {
            "bin_start": 408.5019999999997,
            "bin_end": 509.63999999999965,
            "count": 0
           },
           {
            "bin_start": 509.63999999999965,
            "bin_end": 610.7779999999997,
            "count": 1
           },
           {
            "bin_start": 610.7779999999997,
            "bin_end": 711.9159999999996,
            "count": 0
           },
           {
            "bin_start": 711.9159999999996,
            "bin_end": 813.0539999999995,
            "count": 0
           },
           {
            "bin_start": 813.0539999999995,
            "bin_end": 914.1919999999994,
            "count": 0
           },
           {
            "bin_start": 914.1919999999994,
            "bin_end": 1015.3299999999994,
            "count": 1
           }
          ]
         }
        },
        {
         "name": "num_pages",
         "dtype": "int64",
         "stats": {
          "unique_count": 15,
          "nan_count": 0,
          "min": "416",
          "max": "96638",
          "histogram": [
           {
            "bin_start": 416,
            "bin_end": 10038.2,
            "count": 11
           },
           {
            "bin_start": 10038.2,
            "bin_end": 19660.4,
            "count": 0
           },
           {
            "bin_start": 19660.4,
            "bin_end": 29282.600000000002,
            "count": 3
           },
           {
            "bin_start": 29282.600000000002,
            "bin_end": 38904.8,
            "count": 0
           },
           {
            "bin_start": 38904.8,
            "bin_end": 48527,
            "count": 0
           },
           {
            "bin_start": 48527,
            "bin_end": 58149.200000000004,
            "count": 1
           },
           {
            "bin_start": 58149.200000000004,
            "bin_end": 67771.40000000001,
            "count": 0
           },
           {
            "bin_start": 67771.40000000001,
            "bin_end": 77393.6,
            "count": 0
           },
           {
            "bin_start": 77393.6,
            "bin_end": 87015.8,
            "count": 0
           },
           {
            "bin_start": 87015.8,
            "bin_end": 96638,
            "count": 1
           }
          ]
         }
        },
        {
         "name": "original_publish_year",
         "dtype": "int64",
         "stats": {
          "unique_count": 16,
          "nan_count": 0,
          "min": "1987",
          "max": "490299",
          "histogram": [
           {
            "bin_start": 1987,
            "bin_end": 50818.2,
            "count": 11
           },
           {
            "bin_start": 50818.2,
            "bin_end": 99649.4,
            "count": 0
           },
           {
            "bin_start": 99649.4,
            "bin_end": 148480.59999999998,
            "count": 3
           },
           {
            "bin_start": 148480.59999999998,
            "bin_end": 197311.8,
            "count": 0
           },
           {
            "bin_start": 197311.8,
            "bin_end": 246143,
            "count": 0
           },
           {
            "bin_start": 246143,
            "bin_end": 294974.19999999995,
            "count": 1
           },
           {
            "bin_start": 294974.19999999995,
            "bin_end": 343805.39999999997,
            "count": 0
           },
           {
            "bin_start": 343805.39999999997,
            "bin_end": 392636.6,
            "count": 0
           },
           {
            "bin_start": 392636.6,
            "bin_end": 441467.8,
            "count": 0
           },
           {
            "bin_start": 441467.8,
            "bin_end": 490299,
            "count": 1
           }
          ]
         }
        },
        {
         "name": "series",
         "dtype": "int64",
         "stats": {
          "unique_count": 10,
          "nan_count": 0,
          "min": "1",
          "max": "89",
          "histogram": [
           {
            "bin_start": 1,
            "bin_end": 9.8,
            "count": 11
           },
           {
            "bin_start": 9.8,
            "bin_end": 18.6,
            "count": 0
           },
           {
            "bin_start": 18.6,
            "bin_end": 27.400000000000002,
            "count": 3
           },
           {
            "bin_start": 27.400000000000002,
            "bin_end": 36.2,
            "count": 0
           },
           {
            "bin_start": 36.2,
            "bin_end": 45,
            "count": 1
           },
           {
            "bin_start": 45,
            "bin_end": 53.800000000000004,
            "count": 0
           },
           {
            "bin_start": 53.800000000000004,
            "bin_end": 62.60000000000001,
            "count": 0
           },
           {
            "bin_start": 62.60000000000001,
            "bin_end": 71.4,
            "count": 0
           },
           {
            "bin_start": 71.4,
            "bin_end": 80.2,
            "count": 0
           },
           {
            "bin_start": 80.2,
            "bin_end": 89,
            "count": 1
           }
          ]
         }
        },
        {
         "name": "_deepnote_index_column",
         "dtype": "int64"
        }
       ],
       "rows_top": [
        {
         "Unnamed: 0": 83138,
         "num_reviews": 1613455,
         "num_ratings": 56677348,
         "avg_rating": 1015.3299999999994,
         "num_pages": 96638,
         "original_publish_year": 490299,
         "series": 89,
         "_deepnote_index_column": 1
        },
        {
         "Unnamed: 0": 38415,
         "num_reviews": 1616369,
         "num_ratings": 54408432,
         "avg_rating": 551.7400000000001,
         "num_pages": 54618,
         "original_publish_year": 267385,
         "series": 41,
         "_deepnote_index_column": 2
        },
        {
         "Unnamed: 0": 23591,
         "num_reviews": 663241,
         "num_ratings": 26296361,
         "avg_rating": 286.39000000000004,
         "num_pages": 28265,
         "original_publish_year": 138411,
         "series": 26,
         "_deepnote_index_column": 3
        },
        {
         "Unnamed: 0": 13207,
         "num_reviews": 1083120,
         "num_ratings": 37675147,
         "avg_rating": 221.05000000000007,
         "num_pages": 22643,
         "original_publish_year": 106841,
         "series": 27,
         "_deepnote_index_column": 4
        },
        {
         "Unnamed: 0": 16721,
         "num_reviews": 441436,
         "num_ratings": 15040581,
         "avg_rating": 213.40000000000006,
         "num_pages": 22438,
         "original_publish_year": 105237,
         "series": 23,
         "_deepnote_index_column": 5
        },
        {
         "Unnamed: 0": 4685,
         "num_reviews": 223464,
         "num_ratings": 8762393,
         "avg_rating": 70.15,
         "num_pages": 7131,
         "original_publish_year": 33863,
         "series": 9,
         "_deepnote_index_column": 6
        },
        {
         "Unnamed: 0": 2521,
         "num_reviews": 119501,
         "num_ratings": 3666925,
         "avg_rating": 36.04,
         "num_pages": 3441,
         "original_publish_year": 17919,
         "series": 4,
         "_deepnote_index_column": 7
        },
        {
         "Unnamed: 0": 1020,
         "num_reviews": 78237,
         "num_ratings": 3772729,
         "avg_rating": 20.830000000000002,
         "num_pages": 2495,
         "original_publish_year": 9928,
         "series": 2,
         "_deepnote_index_column": 8
        },
        {
         "Unnamed: 0": 891,
         "num_reviews": 16684,
         "num_ratings": 329418,
         "avg_rating": 8.01,
         "num_pages": 930,
         "original_publish_year": 3989,
         "series": 1,
         "_deepnote_index_column": 9
        },
        {
         "Unnamed: 0": 1233,
         "num_reviews": 19502,
         "num_ratings": 477599,
         "avg_rating": 11.71,
         "num_pages": 930,
         "original_publish_year": 5960,
         "series": 2,
         "_deepnote_index_column": 10
        },
        {
         "Unnamed: 0": 486,
         "num_reviews": 4963,
         "num_ratings": 65081,
         "avg_rating": 3.95,
         "num_pages": 623,
         "original_publish_year": 2000,
         "series": 1,
         "_deepnote_index_column": 11
        },
        {
         "Unnamed: 0": 461,
         "num_reviews": 291974,
         "num_ratings": 9632050,
         "avg_rating": 21.400000000000002,
         "num_pages": 1700,
         "original_publish_year": 9967,
         "series": 4,
         "_deepnote_index_column": 12
        },
        {
         "Unnamed: 0": 724,
         "num_reviews": 32484,
         "num_ratings": 1026407,
         "avg_rating": 8.06,
         "num_pages": 448,
         "original_publish_year": 3975,
         "series": 1,
         "_deepnote_index_column": 15
        },
        {
         "Unnamed: 0": 145,
         "num_reviews": 14679,
         "num_ratings": 499531,
         "avg_rating": 4.37,
         "num_pages": 416,
         "original_publish_year": 1987,
         "series": 1,
         "_deepnote_index_column": 16
        },
        {
         "Unnamed: 0": 879,
         "num_reviews": 164797,
         "num_ratings": 5002092,
         "avg_rating": 16.3,
         "num_pages": 831,
         "original_publish_year": 7984,
         "series": 3,
         "_deepnote_index_column": 21
        },
        {
         "Unnamed: 0": 74,
         "num_reviews": 238220,
         "num_ratings": 15022760,
         "avg_rating": 8.96,
         "num_pages": 618,
         "original_publish_year": 3994,
         "series": 2,
         "_deepnote_index_column": 27
        }
       ],
       "rows_bottom": null
      },
      "text/plain": "              Unnamed: 0  num_reviews  num_ratings  avg_rating  num_pages  \\\nawards_count                                                                \n1                  83138      1613455     56677348     1015.33      96638   \n2                  38415      1616369     54408432      551.74      54618   \n3                  23591       663241     26296361      286.39      28265   \n4                  13207      1083120     37675147      221.05      22643   \n5                  16721       441436     15040581      213.40      22438   \n6                   4685       223464      8762393       70.15       7131   \n7                   2521       119501      3666925       36.04       3441   \n8                   1020        78237      3772729       20.83       2495   \n9                    891        16684       329418        8.01        930   \n10                  1233        19502       477599       11.71        930   \n11                   486         4963        65081        3.95        623   \n12                   461       291974      9632050       21.40       1700   \n15                   724        32484      1026407        8.06        448   \n16                   145        14679       499531        4.37        416   \n21                   879       164797      5002092       16.30        831   \n27                    74       238220     15022760        8.96        618   \n\n              original_publish_year  series  \nawards_count                                 \n1                            490299      89  \n2                            267385      41  \n3                            138411      26  \n4                            106841      27  \n5                            105237      23  \n6                             33863       9  \n7                             17919       4  \n8                              9928       2  \n9                              3989       1  \n10                             5960       2  \n11                             2000       1  \n12                             9967       4  \n15                             3975       1  \n16                             1987       1  \n21                             7984       3  \n27                             3994       2  ",
      "text/html": "<div>\n<style scoped>\n    .dataframe tbody tr th:only-of-type {\n        vertical-align: middle;\n    }\n\n    .dataframe tbody tr th {\n        vertical-align: top;\n    }\n\n    .dataframe thead th {\n        text-align: right;\n    }\n</style>\n<table border=\"1\" class=\"dataframe\">\n  <thead>\n    <tr style=\"text-align: right;\">\n      <th></th>\n      <th>Unnamed: 0</th>\n      <th>num_reviews</th>\n      <th>num_ratings</th>\n      <th>avg_rating</th>\n      <th>num_pages</th>\n      <th>original_publish_year</th>\n      <th>series</th>\n    </tr>\n    <tr>\n      <th>awards_count</th>\n      <th></th>\n      <th></th>\n      <th></th>\n      <th></th>\n      <th></th>\n      <th></th>\n      <th></th>\n    </tr>\n  </thead>\n  <tbody>\n    <tr>\n      <th>1</th>\n      <td>83138</td>\n      <td>1613455</td>\n      <td>56677348</td>\n      <td>1015.33</td>\n      <td>96638</td>\n      <td>490299</td>\n      <td>89</td>\n    </tr>\n    <tr>\n      <th>2</th>\n      <td>38415</td>\n      <td>1616369</td>\n      <td>54408432</td>\n      <td>551.74</td>\n      <td>54618</td>\n      <td>267385</td>\n      <td>41</td>\n    </tr>\n    <tr>\n      <th>3</th>\n      <td>23591</td>\n      <td>663241</td>\n      <td>26296361</td>\n      <td>286.39</td>\n      <td>28265</td>\n      <td>138411</td>\n      <td>26</td>\n    </tr>\n    <tr>\n      <th>4</th>\n      <td>13207</td>\n      <td>1083120</td>\n      <td>37675147</td>\n      <td>221.05</td>\n      <td>22643</td>\n      <td>106841</td>\n      <td>27</td>\n    </tr>\n    <tr>\n      <th>5</th>\n      <td>16721</td>\n      <td>441436</td>\n      <td>15040581</td>\n      <td>213.40</td>\n      <td>22438</td>\n      <td>105237</td>\n      <td>23</td>\n    </tr>\n    <tr>\n      <th>6</th>\n      <td>4685</td>\n      <td>223464</td>\n      <td>8762393</td>\n      <td>70.15</td>\n      <td>7131</td>\n      <td>33863</td>\n      <td>9</td>\n    </tr>\n    <tr>\n      <th>7</th>\n      <td>2521</td>\n      <td>119501</td>\n      <td>3666925</td>\n      <td>36.04</td>\n      <td>3441</td>\n      <td>17919</td>\n      <td>4</td>\n    </tr>\n    <tr>\n      <th>8</th>\n      <td>1020</td>\n      <td>78237</td>\n      <td>3772729</td>\n      <td>20.83</td>\n      <td>2495</td>\n      <td>9928</td>\n      <td>2</td>\n    </tr>\n    <tr>\n      <th>9</th>\n      <td>891</td>\n      <td>16684</td>\n      <td>329418</td>\n      <td>8.01</td>\n      <td>930</td>\n      <td>3989</td>\n      <td>1</td>\n    </tr>\n    <tr>\n      <th>10</th>\n      <td>1233</td>\n      <td>19502</td>\n      <td>477599</td>\n      <td>11.71</td>\n      <td>930</td>\n      <td>5960</td>\n      <td>2</td>\n    </tr>\n    <tr>\n      <th>11</th>\n      <td>486</td>\n      <td>4963</td>\n      <td>65081</td>\n      <td>3.95</td>\n      <td>623</td>\n      <td>2000</td>\n      <td>1</td>\n    </tr>\n    <tr>\n      <th>12</th>\n      <td>461</td>\n      <td>291974</td>\n      <td>9632050</td>\n      <td>21.40</td>\n      <td>1700</td>\n      <td>9967</td>\n      <td>4</td>\n    </tr>\n    <tr>\n      <th>15</th>\n      <td>724</td>\n      <td>32484</td>\n      <td>1026407</td>\n      <td>8.06</td>\n      <td>448</td>\n      <td>3975</td>\n      <td>1</td>\n    </tr>\n    <tr>\n      <th>16</th>\n      <td>145</td>\n      <td>14679</td>\n      <td>499531</td>\n      <td>4.37</td>\n      <td>416</td>\n      <td>1987</td>\n      <td>1</td>\n    </tr>\n    <tr>\n      <th>21</th>\n      <td>879</td>\n      <td>164797</td>\n      <td>5002092</td>\n      <td>16.30</td>\n      <td>831</td>\n      <td>7984</td>\n      <td>3</td>\n    </tr>\n    <tr>\n      <th>27</th>\n      <td>74</td>\n      <td>238220</td>\n      <td>15022760</td>\n      <td>8.96</td>\n      <td>618</td>\n      <td>3994</td>\n      <td>2</td>\n    </tr>\n  </tbody>\n</table>\n</div>"
     },
     "metadata": {}
    }
   ],
   "execution_count": 127
  },
  {
   "cell_type": "code",
   "source": "df.info()",
   "metadata": {
    "tags": [],
    "cell_id": "00002-007a45d3-9bd5-4349-b87b-37bd7632bc45",
    "deepnote_to_be_reexecuted": false,
    "source_hash": "de1e323c",
    "execution_start": 1624012624953,
    "execution_millis": 14,
    "deepnote_cell_type": "code"
   },
   "outputs": [
    {
     "name": "stdout",
     "text": "<class 'pandas.core.frame.DataFrame'>\nRangeIndex: 614 entries, 0 to 613\nData columns (total 14 columns):\n #   Column                 Non-Null Count  Dtype  \n---  ------                 --------------  -----  \n 0   Unnamed: 0             614 non-null    int64  \n 1   url                    614 non-null    object \n 2   title                  614 non-null    object \n 3   author                 614 non-null    object \n 4   num_reviews            614 non-null    int64  \n 5   num_ratings            614 non-null    int64  \n 6   avg_rating             614 non-null    float64\n 7   num_pages              614 non-null    int64  \n 8   original_publish_year  614 non-null    int64  \n 9   series                 614 non-null    bool   \n 10  genres                 614 non-null    object \n 11  awards                 614 non-null    object \n 12  places                 314 non-null    object \n 13  awards_count           614 non-null    int64  \ndtypes: bool(1), float64(1), int64(6), object(6)\nmemory usage: 63.1+ KB\n",
     "output_type": "stream"
    }
   ],
   "execution_count": 5
  },
  {
   "cell_type": "code",
   "source": "df.describe()",
   "metadata": {
    "tags": [],
    "cell_id": "00003-a0e56676-f08a-42dd-8893-fd77df6514ba",
    "deepnote_to_be_reexecuted": false,
    "source_hash": "f88152d9",
    "execution_start": 1624016241256,
    "execution_millis": 53,
    "deepnote_cell_type": "code"
   },
   "outputs": [
    {
     "output_type": "execute_result",
     "execution_count": 66,
     "data": {
      "application/vnd.deepnote.dataframe.v2+json": {
       "row_count": 8,
       "column_count": 9,
       "columns": [
        {
         "name": "Unnamed: 0",
         "dtype": "float64",
         "stats": {
          "unique_count": 7,
          "nan_count": 0,
          "min": "0.0",
          "max": "614.0",
          "histogram": [
           {
            "bin_start": 0,
            "bin_end": 61.4,
            "count": 1
           },
           {
            "bin_start": 61.4,
            "bin_end": 122.8,
            "count": 0
           },
           {
            "bin_start": 122.8,
            "bin_end": 184.2,
            "count": 2
           },
           {
            "bin_start": 184.2,
            "bin_end": 245.6,
            "count": 0
           },
           {
            "bin_start": 245.6,
            "bin_end": 307,
            "count": 2
           },
           {
            "bin_start": 307,
            "bin_end": 368.4,
            "count": 0
           },
           {
            "bin_start": 368.4,
            "bin_end": 429.8,
            "count": 0
           },
           {
            "bin_start": 429.8,
            "bin_end": 491.2,
            "count": 1
           },
           {
            "bin_start": 491.2,
            "bin_end": 552.6,
            "count": 0
           },
           {
            "bin_start": 552.6,
            "bin_end": 614,
            "count": 2
           }
          ]
         }
        },
        {
         "name": "num_reviews",
         "dtype": "float64",
         "stats": {
          "unique_count": 8,
          "nan_count": 0,
          "min": "165.0",
          "max": "119110.0",
          "histogram": [
           {
            "bin_start": 165,
            "bin_end": 12059.5,
            "count": 5
           },
           {
            "bin_start": 12059.5,
            "bin_end": 23954,
            "count": 2
           },
           {
            "bin_start": 23954,
            "bin_end": 35848.5,
            "count": 0
           },
           {
            "bin_start": 35848.5,
            "bin_end": 47743,
            "count": 0
           },
           {
            "bin_start": 47743,
            "bin_end": 59637.5,
            "count": 0
           },
           {
            "bin_start": 59637.5,
            "bin_end": 71532,
            "count": 0
           },
           {
            "bin_start": 71532,
            "bin_end": 83426.5,
            "count": 0
           },
           {
            "bin_start": 83426.5,
            "bin_end": 95321,
            "count": 0
           },
           {
            "bin_start": 95321,
            "bin_end": 107215.5,
            "count": 0
           },
           {
            "bin_start": 107215.5,
            "bin_end": 119110,
            "count": 1
           }
          ]
         }
        },
        {
         "name": "num_ratings",
         "dtype": "float64",
         "stats": {
          "unique_count": 8,
          "nan_count": 0,
          "min": "614.0",
          "max": "7511380.0",
          "histogram": [
           {
            "bin_start": 614,
            "bin_end": 751690.6,
            "count": 6
           },
           {
            "bin_start": 751690.6,
            "bin_end": 1502767.2,
            "count": 1
           },
           {
            "bin_start": 1502767.2,
            "bin_end": 2253843.8,
            "count": 0
           },
           {
            "bin_start": 2253843.8,
            "bin_end": 3004920.4,
            "count": 0
           },
           {
            "bin_start": 3004920.4,
            "bin_end": 3755997,
            "count": 0
           },
           {
            "bin_start": 3755997,
            "bin_end": 4507073.6,
            "count": 0
           },
           {
            "bin_start": 4507073.6,
            "bin_end": 5258150.2,
            "count": 0
           },
           {
            "bin_start": 5258150.2,
            "bin_end": 6009226.8,
            "count": 0
           },
           {
            "bin_start": 6009226.8,
            "bin_end": 6760303.399999999,
            "count": 0
           },
           {
            "bin_start": 6760303.399999999,
            "bin_end": 7511380,
            "count": 1
           }
          ]
         }
        },
        {
         "name": "avg_rating",
         "dtype": "float64",
         "stats": {
          "unique_count": 8,
          "nan_count": 0,
          "min": "0.19044889763177344",
          "max": "614.0",
          "histogram": [
           {
            "bin_start": 0.19044889763177344,
            "bin_end": 61.5714040078686,
            "count": 7
           },
           {
            "bin_start": 61.5714040078686,
            "bin_end": 122.95235911810542,
            "count": 0
           },
           {
            "bin_start": 122.95235911810542,
            "bin_end": 184.33331422834226,
            "count": 0
           },
           {
            "bin_start": 184.33331422834226,
            "bin_end": 245.71426933857907,
            "count": 0
           },
           {
            "bin_start": 245.71426933857907,
            "bin_end": 307.0952244488159,
            "count": 0
           },
           {
            "bin_start": 307.0952244488159,
            "bin_end": 368.47617955905275,
            "count": 0
           },
           {
            "bin_start": 368.47617955905275,
            "bin_end": 429.85713466928956,
            "count": 0
           },
           {
            "bin_start": 429.85713466928956,
            "bin_end": 491.2380897795264,
            "count": 0
           },
           {
            "bin_start": 491.2380897795264,
            "bin_end": 552.6190448897632,
            "count": 0
           },
           {
            "bin_start": 552.6190448897632,
            "bin_end": 614,
            "count": 1
           }
          ]
         }
        },
        {
         "name": "num_pages",
         "dtype": "float64",
         "stats": {
          "unique_count": 8,
          "nan_count": 0,
          "min": "26.0",
          "max": "1796.0",
          "histogram": [
           {
            "bin_start": 26,
            "bin_end": 203,
            "count": 1
           },
           {
            "bin_start": 203,
            "bin_end": 380,
            "count": 3
           },
           {
            "bin_start": 380,
            "bin_end": 557,
            "count": 2
           },
           {
            "bin_start": 557,
            "bin_end": 734,
            "count": 1
           },
           {
            "bin_start": 734,
            "bin_end": 911,
            "count": 0
           },
           {
            "bin_start": 911,
            "bin_end": 1088,
            "count": 0
           },
           {
            "bin_start": 1088,
            "bin_end": 1265,
            "count": 0
           },
           {
            "bin_start": 1265,
            "bin_end": 1442,
            "count": 0
           },
           {
            "bin_start": 1442,
            "bin_end": 1619,
            "count": 0
           },
           {
            "bin_start": 1619,
            "bin_end": 1796,
            "count": 1
           }
          ]
         }
        },
        {
         "name": "original_publish_year",
         "dtype": "float64",
         "stats": {
          "unique_count": 8,
          "nan_count": 0,
          "min": "22.530958427364478",
          "max": "2003.0",
          "histogram": [
           {
            "bin_start": 22.530958427364478,
            "bin_end": 220.57786258462804,
            "count": 1
           },
           {
            "bin_start": 220.57786258462804,
            "bin_end": 418.62476674189156,
            "count": 0
           },
           {
            "bin_start": 418.62476674189156,
            "bin_end": 616.6716708991552,
            "count": 1
           },
           {
            "bin_start": 616.6716708991552,
            "bin_end": 814.7185750564187,
            "count": 0
           },
           {
            "bin_start": 814.7185750564187,
            "bin_end": 1012.7654792136822,
            "count": 0
           },
           {
            "bin_start": 1012.7654792136822,
            "bin_end": 1210.812383370946,
            "count": 0
           },
           {
            "bin_start": 1210.812383370946,
            "bin_end": 1408.8592875282095,
            "count": 0
           },
           {
            "bin_start": 1408.8592875282095,
            "bin_end": 1606.906191685473,
            "count": 0
           },
           {
            "bin_start": 1606.906191685473,
            "bin_end": 1804.9530958427365,
            "count": 0
           },
           {
            "bin_start": 1804.9530958427365,
            "bin_end": 2003,
            "count": 6
           }
          ]
         }
        },
        {
         "name": "awards_count",
         "dtype": "float64",
         "stats": {
          "unique_count": 7,
          "nan_count": 0,
          "min": "1.0",
          "max": "614.0",
          "histogram": [
           {
            "bin_start": 1,
            "bin_end": 62.3,
            "count": 7
           },
           {
            "bin_start": 62.3,
            "bin_end": 123.6,
            "count": 0
           },
           {
            "bin_start": 123.6,
            "bin_end": 184.89999999999998,
            "count": 0
           },
           {
            "bin_start": 184.89999999999998,
            "bin_end": 246.2,
            "count": 0
           },
           {
            "bin_start": 246.2,
            "bin_end": 307.5,
            "count": 0
           },
           {
            "bin_start": 307.5,
            "bin_end": 368.79999999999995,
            "count": 0
           },
           {
            "bin_start": 368.79999999999995,
            "bin_end": 430.09999999999997,
            "count": 0
           },
           {
            "bin_start": 430.09999999999997,
            "bin_end": 491.4,
            "count": 0
           },
           {
            "bin_start": 491.4,
            "bin_end": 552.6999999999999,
            "count": 0
           },
           {
            "bin_start": 552.6999999999999,
            "bin_end": 614,
            "count": 1
           }
          ]
         }
        },
        {
         "name": "avg_rating_mean_norm",
         "dtype": "float64",
         "stats": {
          "unique_count": 8,
          "nan_count": 0,
          "min": "0.8320582906242528",
          "max": "614.0",
          "histogram": [
           {
            "bin_start": 0.8320582906242528,
            "bin_end": 62.14885246156183,
            "count": 7
           },
           {
            "bin_start": 62.14885246156183,
            "bin_end": 123.4656466324994,
            "count": 0
           },
           {
            "bin_start": 123.4656466324994,
            "bin_end": 184.78244080343697,
            "count": 0
           },
           {
            "bin_start": 184.78244080343697,
            "bin_end": 246.09923497437455,
            "count": 0
           },
           {
            "bin_start": 246.09923497437455,
            "bin_end": 307.41602914531217,
            "count": 0
           },
           {
            "bin_start": 307.41602914531217,
            "bin_end": 368.7328233162497,
            "count": 0
           },
           {
            "bin_start": 368.7328233162497,
            "bin_end": 430.04961748718733,
            "count": 0
           },
           {
            "bin_start": 430.04961748718733,
            "bin_end": 491.3664116581249,
            "count": 0
           },
           {
            "bin_start": 491.3664116581249,
            "bin_end": 552.6832058290624,
            "count": 0
           },
           {
            "bin_start": 552.6832058290624,
            "bin_end": 614,
            "count": 1
           }
          ]
         }
        },
        {
         "name": "new_rating",
         "dtype": "float64",
         "stats": {
          "unique_count": 8,
          "nan_count": 0,
          "min": "1.0",
          "max": "614.0",
          "histogram": [
           {
            "bin_start": 1,
            "bin_end": 62.3,
            "count": 7
           },
           {
            "bin_start": 62.3,
            "bin_end": 123.6,
            "count": 0
           },
           {
            "bin_start": 123.6,
            "bin_end": 184.89999999999998,
            "count": 0
           },
           {
            "bin_start": 184.89999999999998,
            "bin_end": 246.2,
            "count": 0
           },
           {
            "bin_start": 246.2,
            "bin_end": 307.5,
            "count": 0
           },
           {
            "bin_start": 307.5,
            "bin_end": 368.79999999999995,
            "count": 0
           },
           {
            "bin_start": 368.79999999999995,
            "bin_end": 430.09999999999997,
            "count": 0
           },
           {
            "bin_start": 430.09999999999997,
            "bin_end": 491.4,
            "count": 0
           },
           {
            "bin_start": 491.4,
            "bin_end": 552.6999999999999,
            "count": 0
           },
           {
            "bin_start": 552.6999999999999,
            "bin_end": 614,
            "count": 1
           }
          ]
         }
        },
        {
         "name": "_deepnote_index_column",
         "dtype": "object"
        }
       ],
       "rows_top": [
        {
         "Unnamed: 0": 614,
         "num_reviews": 614,
         "num_ratings": 614,
         "avg_rating": 614,
         "num_pages": 614,
         "original_publish_year": 614,
         "awards_count": 614,
         "avg_rating_mean_norm": 614,
         "new_rating": 614,
         "_deepnote_index_column": "count"
        },
        {
         "Unnamed: 0": 306.5,
         "num_reviews": 10785.221498371335,
         "num_ratings": 388200.0879478827,
         "avg_rating": 4.067899022801303,
         "num_pages": 397.6628664495114,
         "original_publish_year": 1970.2589576547232,
         "awards_count": 2.8029315960912053,
         "avg_rating_mean_norm": 5.500000000000001,
         "new_rating": 5.612709907972548,
         "_deepnote_index_column": "mean"
        },
        {
         "Unnamed: 0": 177.39081148695385,
         "num_reviews": 15953.357286510392,
         "num_ratings": 783761.5602379414,
         "avg_rating": 0.19044889763177344,
         "num_pages": 258.3738367168076,
         "original_publish_year": 22.530958427364478,
         "awards_count": 2.9661369747914845,
         "avg_rating_mean_norm": 0.8320582906242528,
         "new_rating": 1.6641165812485055,
         "_deepnote_index_column": "std"
        },
        {
         "Unnamed: 0": 0,
         "num_reviews": 165,
         "num_ratings": 2815,
         "avg_rating": 3.54,
         "num_pages": 26,
         "original_publish_year": 1901,
         "awards_count": 1,
         "avg_rating_mean_norm": 3.1936450460137262,
         "new_rating": 1,
         "_deepnote_index_column": "min"
        },
        {
         "Unnamed: 0": 153.25,
         "num_reviews": 2130.5,
         "num_ratings": 44477.5,
         "avg_rating": 3.94,
         "num_pages": 225,
         "original_publish_year": 1955,
         "awards_count": 1,
         "avg_rating_mean_norm": 4.941217861547706,
         "new_rating": 4.49514563106796,
         "_deepnote_index_column": "25%"
        },
        {
         "Unnamed: 0": 306.5,
         "num_reviews": 4883.5,
         "num_ratings": 120391.5,
         "avg_rating": 4.08,
         "num_pages": 331,
         "original_publish_year": 1975,
         "awards_count": 2,
         "avg_rating_mean_norm": 5.5528683469846,
         "new_rating": 5.718446601941746,
         "_deepnote_index_column": "50%"
        },
        {
         "Unnamed: 0": 459.75,
         "num_reviews": 12211,
         "num_ratings": 354241.75,
         "avg_rating": 4.197500000000001,
         "num_pages": 482.75,
         "original_publish_year": 1989,
         "awards_count": 4,
         "avg_rating_mean_norm": 6.066217861547707,
         "new_rating": 6.7451456310679605,
         "_deepnote_index_column": "75%"
        },
        {
         "Unnamed: 0": 613,
         "num_reviews": 119110,
         "num_ratings": 7511380,
         "avg_rating": 4.57,
         "num_pages": 1796,
         "original_publish_year": 2003,
         "awards_count": 27,
         "avg_rating_mean_norm": 7.693645046013726,
         "new_rating": 10,
         "_deepnote_index_column": "max"
        }
       ],
       "rows_bottom": null
      },
      "text/plain": "       Unnamed: 0    num_reviews   num_ratings  avg_rating    num_pages  \\\ncount  614.000000     614.000000  6.140000e+02  614.000000   614.000000   \nmean   306.500000   10785.221498  3.882001e+05    4.067899   397.662866   \nstd    177.390811   15953.357287  7.837616e+05    0.190449   258.373837   \nmin      0.000000     165.000000  2.815000e+03    3.540000    26.000000   \n25%    153.250000    2130.500000  4.447750e+04    3.940000   225.000000   \n50%    306.500000    4883.500000  1.203915e+05    4.080000   331.000000   \n75%    459.750000   12211.000000  3.542418e+05    4.197500   482.750000   \nmax    613.000000  119110.000000  7.511380e+06    4.570000  1796.000000   \n\n       original_publish_year  awards_count  avg_rating_mean_norm  new_rating  \ncount             614.000000    614.000000            614.000000  614.000000  \nmean             1970.258958      2.802932              5.500000    5.612710  \nstd                22.530958      2.966137              0.832058    1.664117  \nmin              1901.000000      1.000000              3.193645    1.000000  \n25%              1955.000000      1.000000              4.941218    4.495146  \n50%              1975.000000      2.000000              5.552868    5.718447  \n75%              1989.000000      4.000000              6.066218    6.745146  \nmax              2003.000000     27.000000              7.693645   10.000000  ",
      "text/html": "<div>\n<style scoped>\n    .dataframe tbody tr th:only-of-type {\n        vertical-align: middle;\n    }\n\n    .dataframe tbody tr th {\n        vertical-align: top;\n    }\n\n    .dataframe thead th {\n        text-align: right;\n    }\n</style>\n<table border=\"1\" class=\"dataframe\">\n  <thead>\n    <tr style=\"text-align: right;\">\n      <th></th>\n      <th>Unnamed: 0</th>\n      <th>num_reviews</th>\n      <th>num_ratings</th>\n      <th>avg_rating</th>\n      <th>num_pages</th>\n      <th>original_publish_year</th>\n      <th>awards_count</th>\n      <th>avg_rating_mean_norm</th>\n      <th>new_rating</th>\n    </tr>\n  </thead>\n  <tbody>\n    <tr>\n      <th>count</th>\n      <td>614.000000</td>\n      <td>614.000000</td>\n      <td>6.140000e+02</td>\n      <td>614.000000</td>\n      <td>614.000000</td>\n      <td>614.000000</td>\n      <td>614.000000</td>\n      <td>614.000000</td>\n      <td>614.000000</td>\n    </tr>\n    <tr>\n      <th>mean</th>\n      <td>306.500000</td>\n      <td>10785.221498</td>\n      <td>3.882001e+05</td>\n      <td>4.067899</td>\n      <td>397.662866</td>\n      <td>1970.258958</td>\n      <td>2.802932</td>\n      <td>5.500000</td>\n      <td>5.612710</td>\n    </tr>\n    <tr>\n      <th>std</th>\n      <td>177.390811</td>\n      <td>15953.357287</td>\n      <td>7.837616e+05</td>\n      <td>0.190449</td>\n      <td>258.373837</td>\n      <td>22.530958</td>\n      <td>2.966137</td>\n      <td>0.832058</td>\n      <td>1.664117</td>\n    </tr>\n    <tr>\n      <th>min</th>\n      <td>0.000000</td>\n      <td>165.000000</td>\n      <td>2.815000e+03</td>\n      <td>3.540000</td>\n      <td>26.000000</td>\n      <td>1901.000000</td>\n      <td>1.000000</td>\n      <td>3.193645</td>\n      <td>1.000000</td>\n    </tr>\n    <tr>\n      <th>25%</th>\n      <td>153.250000</td>\n      <td>2130.500000</td>\n      <td>4.447750e+04</td>\n      <td>3.940000</td>\n      <td>225.000000</td>\n      <td>1955.000000</td>\n      <td>1.000000</td>\n      <td>4.941218</td>\n      <td>4.495146</td>\n    </tr>\n    <tr>\n      <th>50%</th>\n      <td>306.500000</td>\n      <td>4883.500000</td>\n      <td>1.203915e+05</td>\n      <td>4.080000</td>\n      <td>331.000000</td>\n      <td>1975.000000</td>\n      <td>2.000000</td>\n      <td>5.552868</td>\n      <td>5.718447</td>\n    </tr>\n    <tr>\n      <th>75%</th>\n      <td>459.750000</td>\n      <td>12211.000000</td>\n      <td>3.542418e+05</td>\n      <td>4.197500</td>\n      <td>482.750000</td>\n      <td>1989.000000</td>\n      <td>4.000000</td>\n      <td>6.066218</td>\n      <td>6.745146</td>\n    </tr>\n    <tr>\n      <th>max</th>\n      <td>613.000000</td>\n      <td>119110.000000</td>\n      <td>7.511380e+06</td>\n      <td>4.570000</td>\n      <td>1796.000000</td>\n      <td>2003.000000</td>\n      <td>27.000000</td>\n      <td>7.693645</td>\n      <td>10.000000</td>\n    </tr>\n  </tbody>\n</table>\n</div>"
     },
     "metadata": {}
    }
   ],
   "execution_count": 66
  },
  {
   "cell_type": "code",
   "source": "df.isnull().sum()",
   "metadata": {
    "tags": [],
    "cell_id": "00004-e047bb00-02ce-493d-968c-948a0b6ce94b",
    "deepnote_to_be_reexecuted": false,
    "source_hash": "f3dd26da",
    "execution_start": 1624012641766,
    "execution_millis": 16,
    "deepnote_cell_type": "code"
   },
   "outputs": [
    {
     "output_type": "execute_result",
     "execution_count": 7,
     "data": {
      "text/plain": "Unnamed: 0                 0\nurl                        0\ntitle                      0\nauthor                     0\nnum_reviews                0\nnum_ratings                0\navg_rating                 0\nnum_pages                  0\noriginal_publish_year      0\nseries                     0\ngenres                     0\nawards                     0\nplaces                   300\nawards_count               0\ndtype: int64"
     },
     "metadata": {}
    }
   ],
   "execution_count": 7
  },
  {
   "cell_type": "code",
   "source": "df.sample(5)",
   "metadata": {
    "tags": [],
    "cell_id": "00005-b6754e00-f72c-47a6-9f54-ecb135d38c35",
    "deepnote_to_be_reexecuted": false,
    "source_hash": "f6110b39",
    "execution_start": 1624012671836,
    "execution_millis": 30,
    "deepnote_cell_type": "code"
   },
   "outputs": [
    {
     "output_type": "execute_result",
     "execution_count": 8,
     "data": {
      "application/vnd.deepnote.dataframe.v2+json": {
       "row_count": 5,
       "column_count": 14,
       "columns": [
        {
         "name": "Unnamed: 0",
         "dtype": "int64",
         "stats": {
          "unique_count": 5,
          "nan_count": 0,
          "min": "10",
          "max": "592",
          "histogram": [
           {
            "bin_start": 10,
            "bin_end": 68.2,
            "count": 3
           },
           {
            "bin_start": 68.2,
            "bin_end": 126.4,
            "count": 1
           },
           {
            "bin_start": 126.4,
            "bin_end": 184.60000000000002,
            "count": 0
           },
           {
            "bin_start": 184.60000000000002,
            "bin_end": 242.8,
            "count": 0
           },
           {
            "bin_start": 242.8,
            "bin_end": 301,
            "count": 0
           },
           {
            "bin_start": 301,
            "bin_end": 359.20000000000005,
            "count": 0
           },
           {
            "bin_start": 359.20000000000005,
            "bin_end": 417.40000000000003,
            "count": 0
           },
           {
            "bin_start": 417.40000000000003,
            "bin_end": 475.6,
            "count": 0
           },
           {
            "bin_start": 475.6,
            "bin_end": 533.8000000000001,
            "count": 0
           },
           {
            "bin_start": 533.8000000000001,
            "bin_end": 592,
            "count": 1
           }
          ]
         }
        },
        {
         "name": "url",
         "dtype": "object",
         "stats": {
          "unique_count": 5,
          "nan_count": 0,
          "categories": [
           {
            "name": "https://www.goodreads.com/book/show/135479.Cat_s_Cradle",
            "count": 1
           },
           {
            "name": "https://www.goodreads.com/book/show/70401.On_the_Road",
            "count": 1
           },
           {
            "name": "3 others",
            "count": 3
           }
          ]
         }
        },
        {
         "name": "title",
         "dtype": "object",
         "stats": {
          "unique_count": 5,
          "nan_count": 0,
          "categories": [
           {
            "name": "Cat's Cradle",
            "count": 1
           },
           {
            "name": "On the Road",
            "count": 1
           },
           {
            "name": "3 others",
            "count": 3
           }
          ]
         }
        },
        {
         "name": "author",
         "dtype": "object",
         "stats": {
          "unique_count": 5,
          "nan_count": 0,
          "categories": [
           {
            "name": "Kurt Vonnegut Jr.",
            "count": 1
           },
           {
            "name": "Jack Kerouac",
            "count": 1
           },
           {
            "name": "3 others",
            "count": 3
           }
          ]
         }
        },
        {
         "name": "num_reviews",
         "dtype": "int64",
         "stats": {
          "unique_count": 5,
          "nan_count": 0,
          "min": "2007",
          "max": "26901",
          "histogram": [
           {
            "bin_start": 2007,
            "bin_end": 4496.4,
            "count": 1
           },
           {
            "bin_start": 4496.4,
            "bin_end": 6985.8,
            "count": 0
           },
           {
            "bin_start": 6985.8,
            "bin_end": 9475.2,
            "count": 0
           },
           {
            "bin_start": 9475.2,
            "bin_end": 11964.6,
            "count": 1
           },
           {
            "bin_start": 11964.6,
            "bin_end": 14454,
            "count": 0
           },
           {
            "bin_start": 14454,
            "bin_end": 16943.4,
            "count": 1
           },
           {
            "bin_start": 16943.4,
            "bin_end": 19432.8,
            "count": 0
           },
           {
            "bin_start": 19432.8,
            "bin_end": 21922.2,
            "count": 0
           },
           {
            "bin_start": 21922.2,
            "bin_end": 24411.600000000002,
            "count": 1
           },
           {
            "bin_start": 24411.600000000002,
            "bin_end": 26901,
            "count": 1
           }
          ]
         }
        },
        {
         "name": "num_ratings",
         "dtype": "int64",
         "stats": {
          "unique_count": 5,
          "nan_count": 0,
          "min": "41333",
          "max": "2241407",
          "histogram": [
           {
            "bin_start": 41333,
            "bin_end": 261340.4,
            "count": 1
           },
           {
            "bin_start": 261340.4,
            "bin_end": 481347.8,
            "count": 2
           },
           {
            "bin_start": 481347.8,
            "bin_end": 701355.2,
            "count": 0
           },
           {
            "bin_start": 701355.2,
            "bin_end": 921362.6,
            "count": 1
           },
           {
            "bin_start": 921362.6,
            "bin_end": 1141370,
            "count": 0
           },
           {
            "bin_start": 1141370,
            "bin_end": 1361377.4,
            "count": 0
           },
           {
            "bin_start": 1361377.4,
            "bin_end": 1581384.8,
            "count": 0
           },
           {
            "bin_start": 1581384.8,
            "bin_end": 1801392.2,
            "count": 0
           },
           {
            "bin_start": 1801392.2,
            "bin_end": 2021399.5999999999,
            "count": 0
           },
           {
            "bin_start": 2021399.5999999999,
            "bin_end": 2241407,
            "count": 1
           }
          ]
         }
        },
        {
         "name": "avg_rating",
         "dtype": "float64",
         "stats": {
          "unique_count": 5,
          "nan_count": 0,
          "min": "3.62",
          "max": "4.29",
          "histogram": [
           {
            "bin_start": 3.62,
            "bin_end": 3.6870000000000003,
            "count": 1
           },
           {
            "bin_start": 3.6870000000000003,
            "bin_end": 3.754,
            "count": 0
           },
           {
            "bin_start": 3.754,
            "bin_end": 3.821,
            "count": 1
           },
           {
            "bin_start": 3.821,
            "bin_end": 3.888,
            "count": 0
           },
           {
            "bin_start": 3.888,
            "bin_end": 3.955,
            "count": 0
           },
           {
            "bin_start": 3.955,
            "bin_end": 4.022,
            "count": 0
           },
           {
            "bin_start": 4.022,
            "bin_end": 4.089,
            "count": 0
           },
           {
            "bin_start": 4.089,
            "bin_end": 4.156,
            "count": 0
           },
           {
            "bin_start": 4.156,
            "bin_end": 4.223,
            "count": 2
           },
           {
            "bin_start": 4.223,
            "bin_end": 4.29,
            "count": 1
           }
          ]
         }
        },
        {
         "name": "num_pages",
         "dtype": "int64",
         "stats": {
          "unique_count": 5,
          "nan_count": 0,
          "min": "96",
          "max": "320",
          "histogram": [
           {
            "bin_start": 96,
            "bin_end": 118.4,
            "count": 1
           },
           {
            "bin_start": 118.4,
            "bin_end": 140.8,
            "count": 0
           },
           {
            "bin_start": 140.8,
            "bin_end": 163.2,
            "count": 0
           },
           {
            "bin_start": 163.2,
            "bin_end": 185.6,
            "count": 1
           },
           {
            "bin_start": 185.6,
            "bin_end": 208,
            "count": 1
           },
           {
            "bin_start": 208,
            "bin_end": 230.39999999999998,
            "count": 0
           },
           {
            "bin_start": 230.39999999999998,
            "bin_end": 252.79999999999998,
            "count": 0
           },
           {
            "bin_start": 252.79999999999998,
            "bin_end": 275.2,
            "count": 0
           },
           {
            "bin_start": 275.2,
            "bin_end": 297.6,
            "count": 0
           },
           {
            "bin_start": 297.6,
            "bin_end": 320,
            "count": 2
           }
          ]
         }
        },
        {
         "name": "original_publish_year",
         "dtype": "int64",
         "stats": {
          "unique_count": 5,
          "nan_count": 0,
          "min": "1950",
          "max": "1981",
          "histogram": [
           {
            "bin_start": 1950,
            "bin_end": 1953.1,
            "count": 2
           },
           {
            "bin_start": 1953.1,
            "bin_end": 1956.2,
            "count": 1
           },
           {
            "bin_start": 1956.2,
            "bin_end": 1959.3,
            "count": 0
           },
           {
            "bin_start": 1959.3,
            "bin_end": 1962.4,
            "count": 0
           },
           {
            "bin_start": 1962.4,
            "bin_end": 1965.5,
            "count": 1
           },
           {
            "bin_start": 1965.5,
            "bin_end": 1968.6,
            "count": 0
           },
           {
            "bin_start": 1968.6,
            "bin_end": 1971.7,
            "count": 0
           },
           {
            "bin_start": 1971.7,
            "bin_end": 1974.8,
            "count": 0
           },
           {
            "bin_start": 1974.8,
            "bin_end": 1977.9,
            "count": 0
           },
           {
            "bin_start": 1977.9,
            "bin_end": 1981,
            "count": 1
           }
          ]
         }
        },
        {
         "name": "series",
         "dtype": "bool",
         "stats": {
          "unique_count": 2,
          "nan_count": 0,
          "categories": [
           {
            "name": "False",
            "count": 3
           },
           {
            "name": "True",
            "count": 2
           }
          ]
         }
        },
        {
         "name": "genres",
         "dtype": "object",
         "stats": {
          "unique_count": 5,
          "nan_count": 0,
          "categories": [
           {
            "name": "['Fiction', 'Classics', 'Science Fiction']",
            "count": 1
           },
           {
            "name": "['Classics', 'Fiction', 'Travel']",
            "count": 1
           },
           {
            "name": "3 others",
            "count": 3
           }
          ]
         }
        },
        {
         "name": "awards",
         "dtype": "object",
         "stats": {
          "unique_count": 5,
          "nan_count": 0,
          "categories": [
           {
            "name": "Hugo Award Nominee for Best Novel (1964)",
            "count": 1
           },
           {
            "name": "Grammy Award Nominee for Best Spoken Word Album (2001)",
            "count": 1
           },
           {
            "name": "3 others",
            "count": 3
           }
          ]
         }
        },
        {
         "name": "places",
         "dtype": "object",
         "stats": {
          "unique_count": 2,
          "nan_count": 3,
          "categories": [
           {
            "name": "United States",
            "count": 1
           },
           {
            "name": "United Kingdom",
            "count": 1
           },
           {
            "name": "Missing",
            "count": 3
           }
          ]
         }
        },
        {
         "name": "awards_count",
         "dtype": "int64",
         "stats": {
          "unique_count": 2,
          "nan_count": 0,
          "min": "1",
          "max": "3",
          "histogram": [
           {
            "bin_start": 1,
            "bin_end": 1.2,
            "count": 2
           },
           {
            "bin_start": 1.2,
            "bin_end": 1.4,
            "count": 0
           },
           {
            "bin_start": 1.4,
            "bin_end": 1.6,
            "count": 0
           },
           {
            "bin_start": 1.6,
            "bin_end": 1.8,
            "count": 0
           },
           {
            "bin_start": 1.8,
            "bin_end": 2,
            "count": 0
           },
           {
            "bin_start": 2,
            "bin_end": 2.2,
            "count": 0
           },
           {
            "bin_start": 2.2,
            "bin_end": 2.4000000000000004,
            "count": 0
           },
           {
            "bin_start": 2.4000000000000004,
            "bin_end": 2.6,
            "count": 0
           },
           {
            "bin_start": 2.6,
            "bin_end": 2.8,
            "count": 0
           },
           {
            "bin_start": 2.8,
            "bin_end": 3,
            "count": 3
           }
          ]
         }
        },
        {
         "name": "_deepnote_index_column",
         "dtype": "int64"
        }
       ],
       "rows_top": [
        {
         "Unnamed: 0": 69,
         "url": "https://www.goodreads.com/book/show/135479.Cat_s_Cradle",
         "title": "Cat's Cradle",
         "author": "Kurt Vonnegut Jr.",
         "num_reviews": 11348,
         "num_ratings": 348520,
         "avg_rating": 4.16,
         "num_pages": 179,
         "original_publish_year": 1963,
         "series": "False",
         "genres": "['Fiction', 'Classics', 'Science Fiction']",
         "awards": "Hugo Award Nominee for Best Novel (1964)",
         "places": "United States",
         "awards_count": 1,
         "_deepnote_index_column": 69
        },
        {
         "Unnamed: 0": 47,
         "url": "https://www.goodreads.com/book/show/70401.On_the_Road",
         "title": "On the Road",
         "author": "Jack Kerouac",
         "num_reviews": 15555,
         "num_ratings": 361549,
         "avg_rating": 3.62,
         "num_pages": 307,
         "original_publish_year": 1955,
         "series": "True",
         "genres": "['Classics', 'Fiction', 'Travel']",
         "awards": "Grammy Award Nominee for Best Spoken Word Album (2001)",
         "places": "nan",
         "awards_count": 1,
         "_deepnote_index_column": 47
        },
        {
         "Unnamed: 0": 592,
         "url": "https://www.goodreads.com/book/show/161099.Good_Night_Mr_Tom",
         "title": "Good Night, Mr. Tom",
         "author": "Michelle Magorian",
         "num_reviews": 2007,
         "num_ratings": 41333,
         "avg_rating": 4.29,
         "num_pages": 320,
         "original_publish_year": 1981,
         "series": "False",
         "genres": "['Historical', 'Historical Fiction', 'Fiction']",
         "awards": "Guardian Children's Fiction Prize (1982), West Australian Young Readers' Book Award (WAYRBA) for Ol…",
         "places": "nan",
         "awards_count": 3,
         "_deepnote_index_column": 592
        },
        {
         "Unnamed: 0": 10,
         "url": "https://www.goodreads.com/book/show/100915.The_Lion_the_Witch_and_the_Wardrobe",
         "title": "The Lion, the Witch and the Wardrobe",
         "author": "C.S. Lewis",
         "num_reviews": 23533,
         "num_ratings": 2241407,
         "avg_rating": 4.22,
         "num_pages": 206,
         "original_publish_year": 1950,
         "series": "True",
         "genres": "['Fantasy', 'Classics', 'Fiction']",
         "awards": "Lewis Carroll Shelf Award (1962), The Keith Barker Millennium Children's Book Awards 'Children's Bo…",
         "places": "United Kingdom",
         "awards_count": 3,
         "_deepnote_index_column": 10
        },
        {
         "Unnamed: 0": 26,
         "url": "https://www.goodreads.com/book/show/2165.The_Old_Man_and_the_Sea",
         "title": "The Old Man and the Sea",
         "author": "Ernest Hemingway",
         "num_reviews": 26901,
         "num_ratings": 879623,
         "avg_rating": 3.79,
         "num_pages": 96,
         "original_publish_year": 1952,
         "series": "False",
         "genres": "['Classics', 'Fiction', 'Literature']",
         "awards": "Pulitzer Prize for Fiction (1953), Premio Bancarella (1953), National Book Award Finalist for Ficti…",
         "places": "nan",
         "awards_count": 3,
         "_deepnote_index_column": 26
        }
       ],
       "rows_bottom": null
      },
      "text/plain": "     Unnamed: 0                                                url  \\\n69           69  https://www.goodreads.com/book/show/135479.Cat...   \n47           47  https://www.goodreads.com/book/show/70401.On_t...   \n592         592  https://www.goodreads.com/book/show/161099.Goo...   \n10           10  https://www.goodreads.com/book/show/100915.The...   \n26           26  https://www.goodreads.com/book/show/2165.The_O...   \n\n                                    title             author  num_reviews  \\\n69                           Cat's Cradle  Kurt Vonnegut Jr.        11348   \n47                            On the Road       Jack Kerouac        15555   \n592                   Good Night, Mr. Tom  Michelle Magorian         2007   \n10   The Lion, the Witch and the Wardrobe         C.S. Lewis        23533   \n26                The Old Man and the Sea   Ernest Hemingway        26901   \n\n     num_ratings  avg_rating  num_pages  original_publish_year  series  \\\n69        348520        4.16        179                   1963   False   \n47        361549        3.62        307                   1955    True   \n592        41333        4.29        320                   1981   False   \n10       2241407        4.22        206                   1950    True   \n26        879623        3.79         96                   1952   False   \n\n                                              genres  \\\n69        ['Fiction', 'Classics', 'Science Fiction']   \n47                 ['Classics', 'Fiction', 'Travel']   \n592  ['Historical', 'Historical Fiction', 'Fiction']   \n10                ['Fantasy', 'Classics', 'Fiction']   \n26             ['Classics', 'Fiction', 'Literature']   \n\n                                                awards          places  \\\n69            Hugo Award Nominee for Best Novel (1964)   United States   \n47   Grammy Award Nominee for Best Spoken Word Albu...             NaN   \n592  Guardian Children's Fiction Prize (1982), West...             NaN   \n10   Lewis Carroll Shelf Award (1962), The Keith Ba...  United Kingdom   \n26   Pulitzer Prize for Fiction (1953), Premio Banc...             NaN   \n\n     awards_count  \n69              1  \n47              1  \n592             3  \n10              3  \n26              3  ",
      "text/html": "<div>\n<style scoped>\n    .dataframe tbody tr th:only-of-type {\n        vertical-align: middle;\n    }\n\n    .dataframe tbody tr th {\n        vertical-align: top;\n    }\n\n    .dataframe thead th {\n        text-align: right;\n    }\n</style>\n<table border=\"1\" class=\"dataframe\">\n  <thead>\n    <tr style=\"text-align: right;\">\n      <th></th>\n      <th>Unnamed: 0</th>\n      <th>url</th>\n      <th>title</th>\n      <th>author</th>\n      <th>num_reviews</th>\n      <th>num_ratings</th>\n      <th>avg_rating</th>\n      <th>num_pages</th>\n      <th>original_publish_year</th>\n      <th>series</th>\n      <th>genres</th>\n      <th>awards</th>\n      <th>places</th>\n      <th>awards_count</th>\n    </tr>\n  </thead>\n  <tbody>\n    <tr>\n      <th>69</th>\n      <td>69</td>\n      <td>https://www.goodreads.com/book/show/135479.Cat...</td>\n      <td>Cat's Cradle</td>\n      <td>Kurt Vonnegut Jr.</td>\n      <td>11348</td>\n      <td>348520</td>\n      <td>4.16</td>\n      <td>179</td>\n      <td>1963</td>\n      <td>False</td>\n      <td>['Fiction', 'Classics', 'Science Fiction']</td>\n      <td>Hugo Award Nominee for Best Novel (1964)</td>\n      <td>United States</td>\n      <td>1</td>\n    </tr>\n    <tr>\n      <th>47</th>\n      <td>47</td>\n      <td>https://www.goodreads.com/book/show/70401.On_t...</td>\n      <td>On the Road</td>\n      <td>Jack Kerouac</td>\n      <td>15555</td>\n      <td>361549</td>\n      <td>3.62</td>\n      <td>307</td>\n      <td>1955</td>\n      <td>True</td>\n      <td>['Classics', 'Fiction', 'Travel']</td>\n      <td>Grammy Award Nominee for Best Spoken Word Albu...</td>\n      <td>NaN</td>\n      <td>1</td>\n    </tr>\n    <tr>\n      <th>592</th>\n      <td>592</td>\n      <td>https://www.goodreads.com/book/show/161099.Goo...</td>\n      <td>Good Night, Mr. Tom</td>\n      <td>Michelle Magorian</td>\n      <td>2007</td>\n      <td>41333</td>\n      <td>4.29</td>\n      <td>320</td>\n      <td>1981</td>\n      <td>False</td>\n      <td>['Historical', 'Historical Fiction', 'Fiction']</td>\n      <td>Guardian Children's Fiction Prize (1982), West...</td>\n      <td>NaN</td>\n      <td>3</td>\n    </tr>\n    <tr>\n      <th>10</th>\n      <td>10</td>\n      <td>https://www.goodreads.com/book/show/100915.The...</td>\n      <td>The Lion, the Witch and the Wardrobe</td>\n      <td>C.S. Lewis</td>\n      <td>23533</td>\n      <td>2241407</td>\n      <td>4.22</td>\n      <td>206</td>\n      <td>1950</td>\n      <td>True</td>\n      <td>['Fantasy', 'Classics', 'Fiction']</td>\n      <td>Lewis Carroll Shelf Award (1962), The Keith Ba...</td>\n      <td>United Kingdom</td>\n      <td>3</td>\n    </tr>\n    <tr>\n      <th>26</th>\n      <td>26</td>\n      <td>https://www.goodreads.com/book/show/2165.The_O...</td>\n      <td>The Old Man and the Sea</td>\n      <td>Ernest Hemingway</td>\n      <td>26901</td>\n      <td>879623</td>\n      <td>3.79</td>\n      <td>96</td>\n      <td>1952</td>\n      <td>False</td>\n      <td>['Classics', 'Fiction', 'Literature']</td>\n      <td>Pulitzer Prize for Fiction (1953), Premio Banc...</td>\n      <td>NaN</td>\n      <td>3</td>\n    </tr>\n  </tbody>\n</table>\n</div>"
     },
     "metadata": {}
    }
   ],
   "execution_count": 8
  },
  {
   "cell_type": "code",
   "source": "",
   "metadata": {
    "cell_id": "00006-b3222ad4-8a78-4686-b67c-3a27954d47ad",
    "deepnote_to_be_reexecuted": false,
    "source_hash": "b623e53d",
    "execution_start": 1624013035294,
    "execution_millis": 3,
    "deepnote_cell_type": "visualization"
   },
   "outputs": [],
   "execution_count": 8
  },
  {
   "cell_type": "code",
   "source": "# Mean normalization for avg_rating (x-mean)/(max-min)\n\ndf['avg_rating_mean_norm'] = (df['avg_rating'] - df['avg_rating'].mean())/(df['avg_rating'].max() - df['avg_rating'].min())\ndf['avg_rating_mean_norm'] = ((df['avg_rating_mean_norm'] + 1)*4.5) + 1",
   "metadata": {
    "tags": [],
    "cell_id": "00006-39c5eb40-dcb1-4631-8829-3272982dd4f0",
    "deepnote_to_be_reexecuted": false,
    "source_hash": "679a666c",
    "execution_start": 1624017193318,
    "execution_millis": 1,
    "deepnote_cell_type": "code"
   },
   "outputs": [],
   "execution_count": 77
  },
  {
   "cell_type": "code",
   "source": "display(df['avg_rating'].mean())   # if rating is exactly this then it would give some null values\ndisplay(df['avg_rating_mean_norm'].isnull().sum())     # to check if all mean calculated\ndisplay(df['avg_rating'].max())\ndisplay(df['avg_rating'].min()) ",
   "metadata": {
    "tags": [],
    "cell_id": "00008-a0a43639-a1ea-4d60-a2ee-adbc00994179",
    "deepnote_to_be_reexecuted": false,
    "source_hash": "3a76c25b",
    "execution_start": 1624017193590,
    "execution_millis": 12,
    "deepnote_cell_type": "code"
   },
   "outputs": [
    {
     "data": {
      "text/plain": "4.067899022801303"
     },
     "metadata": {},
     "output_type": "display_data"
    },
    {
     "data": {
      "text/plain": "0"
     },
     "metadata": {},
     "output_type": "display_data"
    },
    {
     "data": {
      "text/plain": "4.57"
     },
     "metadata": {},
     "output_type": "display_data"
    },
    {
     "data": {
      "text/plain": "3.54"
     },
     "metadata": {},
     "output_type": "display_data"
    }
   ],
   "execution_count": 78
  },
  {
   "cell_type": "code",
   "source": "(df['avg_rating'].min() - df['avg_rating'].mean())",
   "metadata": {
    "tags": [],
    "cell_id": "00009-acedfa89-bb65-41ef-8d91-c1a212a43552",
    "deepnote_to_be_reexecuted": false,
    "source_hash": "48fba50b",
    "execution_start": 1624017194039,
    "execution_millis": 7,
    "deepnote_cell_type": "code"
   },
   "outputs": [
    {
     "output_type": "execute_result",
     "execution_count": 79,
     "data": {
      "text/plain": "-0.5278990228013027"
     },
     "metadata": {}
    }
   ],
   "execution_count": 79
  },
  {
   "cell_type": "code",
   "source": "df['avg_rating'].max() - df['avg_rating'].min()",
   "metadata": {
    "tags": [],
    "cell_id": "00010-ea347179-aa0b-4df0-830d-cde58d1e4748",
    "deepnote_to_be_reexecuted": false,
    "source_hash": "8e65e71",
    "execution_start": 1624017195782,
    "execution_millis": 10,
    "deepnote_cell_type": "code"
   },
   "outputs": [
    {
     "output_type": "execute_result",
     "execution_count": 80,
     "data": {
      "text/plain": "1.0300000000000002"
     },
     "metadata": {}
    }
   ],
   "execution_count": 80
  },
  {
   "cell_type": "code",
   "source": "df['avg_rating'].skew()",
   "metadata": {
    "tags": [],
    "cell_id": "00011-2d98042f-8bb0-437c-8678-df346120582a",
    "deepnote_to_be_reexecuted": false,
    "source_hash": "462163a2",
    "execution_start": 1624017196091,
    "execution_millis": 7,
    "deepnote_cell_type": "code"
   },
   "outputs": [
    {
     "output_type": "execute_result",
     "execution_count": 81,
     "data": {
      "text/plain": "-0.045658412256161955"
     },
     "metadata": {}
    }
   ],
   "execution_count": 81
  },
  {
   "cell_type": "code",
   "source": "sns.histplot(df['avg_rating'])",
   "metadata": {
    "tags": [],
    "cell_id": "00009-bdf50de4-f5d4-46e5-9d4a-1b1550654e37",
    "deepnote_to_be_reexecuted": false,
    "source_hash": "598b6f35",
    "execution_start": 1624017196453,
    "execution_millis": 179,
    "deepnote_cell_type": "code"
   },
   "outputs": [
    {
     "output_type": "execute_result",
     "execution_count": 82,
     "data": {
      "text/plain": "<AxesSubplot:xlabel='avg_rating', ylabel='Count'>"
     },
     "metadata": {}
    },
    {
     "data": {
      "text/plain": "<Figure size 432x288 with 1 Axes>",
      "image/png": "[encoded data removed]"
     },
     "metadata": {
      "needs_background": "light",
      "image/png": {
       "width": 384,
       "height": 263
      }
     },
     "output_type": "display_data"
    }
   ],
   "execution_count": 82
  },
  {
   "cell_type": "code",
   "source": "sns.histplot(df['avg_rating_mean_norm'])",
   "metadata": {
    "tags": [],
    "cell_id": "00010-dca12fe8-4fe8-482d-a2f6-beffcbdd7a83",
    "deepnote_to_be_reexecuted": false,
    "source_hash": "c95f1f66",
    "execution_start": 1624017197264,
    "execution_millis": 190,
    "deepnote_cell_type": "code"
   },
   "outputs": [
    {
     "output_type": "execute_result",
     "execution_count": 83,
     "data": {
      "text/plain": "<AxesSubplot:xlabel='avg_rating_mean_norm', ylabel='Count'>"
     },
     "metadata": {}
    },
    {
     "data": {
      "text/plain": "<Figure size 432x288 with 1 Axes>",
      "image/png": "[encoded data removed]"
     },
     "metadata": {
      "needs_background": "light",
      "image/png": {
       "width": 382,
       "height": 263
      }
     },
     "output_type": "display_data"
    }
   ],
   "execution_count": 83
  },
  {
   "cell_type": "code",
   "source": "display(df['avg_rating_mean_norm'].max())\ndisplay(df['avg_rating_mean_norm'].min())",
   "metadata": {
    "tags": [],
    "cell_id": "00014-5852fe52-ee0d-465e-bdb2-af5a5bc9f7c7",
    "deepnote_to_be_reexecuted": false,
    "source_hash": "e4ba49a1",
    "execution_start": 1624018682257,
    "execution_millis": 6,
    "deepnote_cell_type": "code"
   },
   "outputs": [
    {
     "data": {
      "text/plain": "7.693645046013726"
     },
     "metadata": {},
     "output_type": "display_data"
    },
    {
     "data": {
      "text/plain": "3.1936450460137262"
     },
     "metadata": {},
     "output_type": "display_data"
    }
   ],
   "execution_count": 101
  },
  {
   "cell_type": "markdown",
   "source": "# ",
   "metadata": {
    "tags": [],
    "cell_id": "00008-a9dd05f3-7ce2-4b96-bfc1-b265afa39d84",
    "deepnote_cell_type": "text-cell-h1"
   }
  },
  {
   "cell_type": "code",
   "source": "df_min_max_scaled = df[['avg_rating']].copy()\n\nfor column in df_min_max_scaled.columns:\n    df_min_max_scaled['avg_rating'] = (df_min_max_scaled['avg_rating'] - df_min_max_scaled['avg_rating'].min()) / (df_min_max_scaled['avg_rating'].max() - df_min_max_scaled['avg_rating'].min())    \n\n\nnew_rating = 1 +  (df_min_max_scaled *9)\ndf['new_rating'] = new_rating",
   "metadata": {
    "tags": [],
    "cell_id": "00010-76c501ad-23e5-4c95-b28d-4c8ce75b5e4c",
    "deepnote_to_be_reexecuted": false,
    "source_hash": "89e90cc6",
    "execution_start": 1624015781272,
    "execution_millis": 7,
    "deepnote_cell_type": "code"
   },
   "outputs": [],
   "execution_count": 41
  },
  {
   "cell_type": "code",
   "source": "sns.histplot(df['new_rating'])",
   "metadata": {
    "tags": [],
    "cell_id": "00017-99ee45b6-74c7-4d1a-8b3c-78033c9b9547",
    "deepnote_to_be_reexecuted": false,
    "source_hash": "f9cf5bfc",
    "execution_start": 1624021173287,
    "execution_millis": 200,
    "deepnote_cell_type": "code"
   },
   "outputs": [
    {
     "output_type": "execute_result",
     "execution_count": 105,
     "data": {
      "text/plain": "<AxesSubplot:xlabel='new_rating', ylabel='Count'>"
     },
     "metadata": {}
    },
    {
     "data": {
      "text/plain": "<Figure size 432x288 with 1 Axes>",
      "image/png": "[encoded data removed]"
     },
     "metadata": {
      "needs_background": "light",
      "image/png": {
       "width": 382,
       "height": 263
      }
     },
     "output_type": "display_data"
    }
   ],
   "execution_count": 105
  },
  {
   "cell_type": "code",
   "source": "df.info()",
   "metadata": {
    "tags": [],
    "cell_id": "00012-4f22f682-fd3c-4e95-9a04-c0f0ba282748",
    "deepnote_to_be_reexecuted": false,
    "source_hash": "de1e323c",
    "execution_start": 1624015967844,
    "execution_millis": 10,
    "deepnote_cell_type": "code"
   },
   "outputs": [
    {
     "name": "stdout",
     "text": "<class 'pandas.core.frame.DataFrame'>\nRangeIndex: 614 entries, 0 to 613\nData columns (total 16 columns):\n #   Column                 Non-Null Count  Dtype  \n---  ------                 --------------  -----  \n 0   Unnamed: 0             614 non-null    int64  \n 1   url                    614 non-null    object \n 2   title                  614 non-null    object \n 3   author                 614 non-null    object \n 4   num_reviews            614 non-null    int64  \n 5   num_ratings            614 non-null    int64  \n 6   avg_rating             614 non-null    float64\n 7   num_pages              614 non-null    int64  \n 8   original_publish_year  614 non-null    int64  \n 9   series                 614 non-null    bool   \n 10  genres                 614 non-null    object \n 11  awards                 614 non-null    object \n 12  places                 314 non-null    object \n 13  awards_count           614 non-null    int64  \n 14  avg_rating_mean_norm   614 non-null    float64\n 15  new_rating             614 non-null    float64\ndtypes: bool(1), float64(3), int64(6), object(6)\nmemory usage: 72.7+ KB\n",
     "output_type": "stream"
    }
   ],
   "execution_count": 50
  },
  {
   "cell_type": "code",
   "source": "df.head()",
   "metadata": {
    "tags": [],
    "cell_id": "00017-1d9dd98f-2588-4700-bbe8-5c85781d04df",
    "deepnote_to_be_reexecuted": false,
    "source_hash": "c085b6ba",
    "execution_start": 1624017315477,
    "execution_millis": 34,
    "deepnote_cell_type": "code"
   },
   "outputs": [
    {
     "output_type": "execute_result",
     "execution_count": 84,
     "data": {
      "application/vnd.deepnote.dataframe.v2+json": {
       "row_count": 5,
       "column_count": 16,
       "columns": [
        {
         "name": "Unnamed: 0",
         "dtype": "int64",
         "stats": {
          "unique_count": 5,
          "nan_count": 0,
          "min": "0",
          "max": "4",
          "histogram": [
           {
            "bin_start": 0,
            "bin_end": 0.4,
            "count": 1
           },
           {
            "bin_start": 0.4,
            "bin_end": 0.8,
            "count": 0
           },
           {
            "bin_start": 0.8,
            "bin_end": 1.2000000000000002,
            "count": 1
           },
           {
            "bin_start": 1.2000000000000002,
            "bin_end": 1.6,
            "count": 0
           },
           {
            "bin_start": 1.6,
            "bin_end": 2,
            "count": 0
           },
           {
            "bin_start": 2,
            "bin_end": 2.4000000000000004,
            "count": 1
           },
           {
            "bin_start": 2.4000000000000004,
            "bin_end": 2.8000000000000003,
            "count": 0
           },
           {
            "bin_start": 2.8000000000000003,
            "bin_end": 3.2,
            "count": 1
           },
           {
            "bin_start": 3.2,
            "bin_end": 3.6,
            "count": 0
           },
           {
            "bin_start": 3.6,
            "bin_end": 4,
            "count": 1
           }
          ]
         }
        },
        {
         "name": "url",
         "dtype": "object",
         "stats": {
          "unique_count": 5,
          "nan_count": 0,
          "categories": [
           {
            "name": "https://www.goodreads.com/book/show/2657.To_Kill_a_Mockingbird",
            "count": 1
           },
           {
            "name": "https://www.goodreads.com/book/show/40961427-1984",
            "count": 1
           },
           {
            "name": "3 others",
            "count": 3
           }
          ]
         }
        },
        {
         "name": "title",
         "dtype": "object",
         "stats": {
          "unique_count": 5,
          "nan_count": 0,
          "categories": [
           {
            "name": "To Kill a Mockingbird",
            "count": 1
           },
           {
            "name": "1984",
            "count": 1
           },
           {
            "name": "3 others",
            "count": 3
           }
          ]
         }
        },
        {
         "name": "author",
         "dtype": "object",
         "stats": {
          "unique_count": 5,
          "nan_count": 0,
          "categories": [
           {
            "name": "Harper Lee",
            "count": 1
           },
           {
            "name": "George Orwell",
            "count": 1
           },
           {
            "name": "3 others",
            "count": 3
           }
          ]
         }
        },
        {
         "name": "num_reviews",
         "dtype": "int64",
         "stats": {
          "unique_count": 5,
          "nan_count": 0,
          "min": "61102",
          "max": "119110",
          "histogram": [
           {
            "bin_start": 61102,
            "bin_end": 66902.8,
            "count": 1
           },
           {
            "bin_start": 66902.8,
            "bin_end": 72703.6,
            "count": 1
           },
           {
            "bin_start": 72703.6,
            "bin_end": 78504.4,
            "count": 1
           },
           {
            "bin_start": 78504.4,
            "bin_end": 84305.2,
            "count": 0
           },
           {
            "bin_start": 84305.2,
            "bin_end": 90106,
            "count": 0
           },
           {
            "bin_start": 90106,
            "bin_end": 95906.8,
            "count": 1
           },
           {
            "bin_start": 95906.8,
            "bin_end": 101707.6,
            "count": 0
           },
           {
            "bin_start": 101707.6,
            "bin_end": 107508.4,
            "count": 0
           },
           {
            "bin_start": 107508.4,
            "bin_end": 113309.20000000001,
            "count": 0
           },
           {
            "bin_start": 113309.20000000001,
            "bin_end": 119110,
            "count": 1
           }
          ]
         }
        },
        {
         "name": "num_ratings",
         "dtype": "int64",
         "stats": {
          "unique_count": 5,
          "nan_count": 0,
          "min": "2911765",
          "max": "7511380",
          "histogram": [
           {
            "bin_start": 2911765,
            "bin_end": 3371726.5,
            "count": 2
           },
           {
            "bin_start": 3371726.5,
            "bin_end": 3831688,
            "count": 0
           },
           {
            "bin_start": 3831688,
            "bin_end": 4291649.5,
            "count": 1
           },
           {
            "bin_start": 4291649.5,
            "bin_end": 4751611,
            "count": 0
           },
           {
            "bin_start": 4751611,
            "bin_end": 5211572.5,
            "count": 1
           },
           {
            "bin_start": 5211572.5,
            "bin_end": 5671534,
            "count": 0
           },
           {
            "bin_start": 5671534,
            "bin_end": 6131495.5,
            "count": 0
           },
           {
            "bin_start": 6131495.5,
            "bin_end": 6591457,
            "count": 0
           },
           {
            "bin_start": 6591457,
            "bin_end": 7051418.5,
            "count": 0
           },
           {
            "bin_start": 7051418.5,
            "bin_end": 7511380,
            "count": 1
           }
          ]
         }
        },
        {
         "name": "avg_rating",
         "dtype": "float64",
         "stats": {
          "unique_count": 5,
          "nan_count": 0,
          "min": "3.93",
          "max": "4.48",
          "histogram": [
           {
            "bin_start": 3.93,
            "bin_end": 3.9850000000000003,
            "count": 2
           },
           {
            "bin_start": 3.9850000000000003,
            "bin_end": 4.04,
            "count": 0
           },
           {
            "bin_start": 4.04,
            "bin_end": 4.095000000000001,
            "count": 0
           },
           {
            "bin_start": 4.095000000000001,
            "bin_end": 4.15,
            "count": 0
           },
           {
            "bin_start": 4.15,
            "bin_end": 4.205,
            "count": 1
           },
           {
            "bin_start": 4.205,
            "bin_end": 4.260000000000001,
            "count": 0
           },
           {
            "bin_start": 4.260000000000001,
            "bin_end": 4.315,
            "count": 1
           },
           {
            "bin_start": 4.315,
            "bin_end": 4.37,
            "count": 0
           },
           {
            "bin_start": 4.37,
            "bin_end": 4.425000000000001,
            "count": 0
           },
           {
            "bin_start": 4.425000000000001,
            "bin_end": 4.48,
            "count": 1
           }
          ]
         }
        },
        {
         "name": "num_pages",
         "dtype": "int64",
         "stats": {
          "unique_count": 5,
          "nan_count": 0,
          "min": "141",
          "max": "324",
          "histogram": [
           {
            "bin_start": 141,
            "bin_end": 159.3,
            "count": 1
           },
           {
            "bin_start": 159.3,
            "bin_end": 177.6,
            "count": 0
           },
           {
            "bin_start": 177.6,
            "bin_end": 195.9,
            "count": 0
           },
           {
            "bin_start": 195.9,
            "bin_end": 214.2,
            "count": 1
           },
           {
            "bin_start": 214.2,
            "bin_end": 232.5,
            "count": 0
           },
           {
            "bin_start": 232.5,
            "bin_end": 250.8,
            "count": 1
           },
           {
            "bin_start": 250.8,
            "bin_end": 269.1,
            "count": 0
           },
           {
            "bin_start": 269.1,
            "bin_end": 287.4,
            "count": 0
           },
           {
            "bin_start": 287.4,
            "bin_end": 305.70000000000005,
            "count": 0
           },
           {
            "bin_start": 305.70000000000005,
            "bin_end": 324,
            "count": 2
           }
          ]
         }
        },
        {
         "name": "original_publish_year",
         "dtype": "int64",
         "stats": {
          "unique_count": 5,
          "nan_count": 0,
          "min": "1925",
          "max": "1997",
          "histogram": [
           {
            "bin_start": 1925,
            "bin_end": 1932.2,
            "count": 1
           },
           {
            "bin_start": 1932.2,
            "bin_end": 1939.4,
            "count": 0
           },
           {
            "bin_start": 1939.4,
            "bin_end": 1946.6,
            "count": 1
           },
           {
            "bin_start": 1946.6,
            "bin_end": 1953.8,
            "count": 1
           },
           {
            "bin_start": 1953.8,
            "bin_end": 1961,
            "count": 1
           },
           {
            "bin_start": 1961,
            "bin_end": 1968.2,
            "count": 0
           },
           {
            "bin_start": 1968.2,
            "bin_end": 1975.4,
            "count": 0
           },
           {
            "bin_start": 1975.4,
            "bin_end": 1982.6,
            "count": 0
           },
           {
            "bin_start": 1982.6,
            "bin_end": 1989.8,
            "count": 0
           },
           {
            "bin_start": 1989.8,
            "bin_end": 1997,
            "count": 1
           }
          ]
         }
        },
        {
         "name": "series",
         "dtype": "bool",
         "stats": {
          "unique_count": 2,
          "nan_count": 0,
          "categories": [
           {
            "name": "False",
            "count": 3
           },
           {
            "name": "True",
            "count": 2
           }
          ]
         }
        },
        {
         "name": "genres",
         "dtype": "object",
         "stats": {
          "unique_count": 4,
          "nan_count": 0,
          "categories": [
           {
            "name": "['Classics', 'Fiction', 'Science Fiction']",
            "count": 2
           },
           {
            "name": "['Classics', 'Fiction', 'Historical']",
            "count": 1
           },
           {
            "name": "2 others",
            "count": 2
           }
          ]
         }
        },
        {
         "name": "awards",
         "dtype": "object",
         "stats": {
          "unique_count": 5,
          "nan_count": 0,
          "categories": [
           {
            "name": "Pulitzer Prize for Fiction (1961), Audie Award for Classic (2007), National Book Award Finalist for Fiction (1961), Alabama Author Award for Fiction (1961)",
            "count": 1
           },
           {
            "name": "Prometheus Hall of Fame Award (1984), Locus Award Nominee for All-Time Best Science Fiction Novel (1987)",
            "count": 1
           },
           {
            "name": "3 others",
            "count": 3
           }
          ]
         }
        },
        {
         "name": "places",
         "dtype": "object",
         "stats": {
          "unique_count": 2,
          "nan_count": 1,
          "categories": [
           {
            "name": "United States",
            "count": 2
           },
           {
            "name": "United Kingdom",
            "count": 2
           },
           {
            "name": "Missing",
            "count": 1
           }
          ]
         }
        },
        {
         "name": "awards_count",
         "dtype": "int64",
         "stats": {
          "unique_count": 3,
          "nan_count": 0,
          "min": "2",
          "max": "27",
          "histogram": [
           {
            "bin_start": 2,
            "bin_end": 4.5,
            "count": 4
           },
           {
            "bin_start": 4.5,
            "bin_end": 7,
            "count": 0
           },
           {
            "bin_start": 7,
            "bin_end": 9.5,
            "count": 0
           },
           {
            "bin_start": 9.5,
            "bin_end": 12,
            "count": 0
           },
           {
            "bin_start": 12,
            "bin_end": 14.5,
            "count": 0
           },
           {
            "bin_start": 14.5,
            "bin_end": 17,
            "count": 0
           },
           {
            "bin_start": 17,
            "bin_end": 19.5,
            "count": 0
           },
           {
            "bin_start": 19.5,
            "bin_end": 22,
            "count": 0
           },
           {
            "bin_start": 22,
            "bin_end": 24.5,
            "count": 0
           },
           {
            "bin_start": 24.5,
            "bin_end": 27,
            "count": 1
           }
          ]
         }
        },
        {
         "name": "avg_rating_mean_norm",
         "dtype": "float64",
         "stats": {
          "unique_count": 5,
          "nan_count": 0,
          "min": "4.897528541159358",
          "max": "7.300441162518582",
          "histogram": [
           {
            "bin_start": 4.897528541159358,
            "bin_end": 5.13781980329528,
            "count": 2
           },
           {
            "bin_start": 5.13781980329528,
            "bin_end": 5.378111065431202,
            "count": 0
           },
           {
            "bin_start": 5.378111065431202,
            "bin_end": 5.618402327567125,
            "count": 0
           },
           {
            "bin_start": 5.618402327567125,
            "bin_end": 5.858693589703047,
            "count": 0
           },
           {
            "bin_start": 5.858693589703047,
            "bin_end": 6.09898485183897,
            "count": 1
           },
           {
            "bin_start": 6.09898485183897,
            "bin_end": 6.339276113974892,
            "count": 0
           },
           {
            "bin_start": 6.339276113974892,
            "bin_end": 6.579567376110814,
            "count": 1
           },
           {
            "bin_start": 6.579567376110814,
            "bin_end": 6.819858638246737,
            "count": 0
           },
           {
            "bin_start": 6.819858638246737,
            "bin_end": 7.06014990038266,
            "count": 0
           },
           {
            "bin_start": 7.06014990038266,
            "bin_end": 7.300441162518582,
            "count": 1
           }
          ]
         }
        },
        {
         "name": "new_rating",
         "dtype": "float64",
         "stats": {
          "unique_count": 5,
          "nan_count": 0,
          "min": "4.407766990291263",
          "max": "9.21359223300971",
          "histogram": [
           {
            "bin_start": 4.407766990291263,
            "bin_end": 4.8883495145631075,
            "count": 2
           },
           {
            "bin_start": 4.8883495145631075,
            "bin_end": 5.368932038834952,
            "count": 0
           },
           {
            "bin_start": 5.368932038834952,
            "bin_end": 5.849514563106797,
            "count": 0
           },
           {
            "bin_start": 5.849514563106797,
            "bin_end": 6.3300970873786415,
            "count": 0
           },
           {
            "bin_start": 6.3300970873786415,
            "bin_end": 6.810679611650486,
            "count": 1
           },
           {
            "bin_start": 6.810679611650486,
            "bin_end": 7.291262135922331,
            "count": 0
           },
           {
            "bin_start": 7.291262135922331,
            "bin_end": 7.7718446601941755,
            "count": 1
           },
           {
            "bin_start": 7.7718446601941755,
            "bin_end": 8.25242718446602,
            "count": 0
           },
           {
            "bin_start": 8.25242718446602,
            "bin_end": 8.733009708737864,
            "count": 0
           },
           {
            "bin_start": 8.733009708737864,
            "bin_end": 9.21359223300971,
            "count": 1
           }
          ]
         }
        },
        {
         "name": "_deepnote_index_column",
         "dtype": "int64"
        }
       ],
       "rows_top": [
        {
         "Unnamed: 0": 0,
         "url": "https://www.goodreads.com/book/show/2657.To_Kill_a_Mockingbird",
         "title": "To Kill a Mockingbird",
         "author": "Harper Lee",
         "num_reviews": 95178,
         "num_ratings": 4751916,
         "avg_rating": 4.28,
         "num_pages": 324,
         "original_publish_year": 1960,
         "series": "True",
         "genres": "['Classics', 'Fiction', 'Historical']",
         "awards": "Pulitzer Prize for Fiction (1961), Audie Award for Classic (2007), National Book Award Finalist for…",
         "places": "United States",
         "awards_count": 4,
         "avg_rating_mean_norm": 6.426654754751591,
         "new_rating": 7.466019417475728,
         "_deepnote_index_column": 0
        },
        {
         "Unnamed: 0": 1,
         "url": "https://www.goodreads.com/book/show/40961427-1984",
         "title": "1984",
         "author": "George Orwell",
         "num_reviews": 76077,
         "num_ratings": 3365418,
         "avg_rating": 4.19,
         "num_pages": 237,
         "original_publish_year": 1949,
         "series": "False",
         "genres": "['Classics', 'Fiction', 'Science Fiction']",
         "awards": "Prometheus Hall of Fame Award (1984), Locus Award Nominee for All-Time Best Science Fiction Novel (…",
         "places": "United Kingdom",
         "awards_count": 2,
         "avg_rating_mean_norm": 6.033450871256446,
         "new_rating": 6.679611650485438,
         "_deepnote_index_column": 1
        },
        {
         "Unnamed: 0": 2,
         "url": "https://www.goodreads.com/book/show/3.Harry_Potter_and_the_Sorcerer_s_Stone",
         "title": "Harry Potter and the Sorcerer's Stone",
         "author": "J.K. Rowling, ",
         "num_reviews": 119110,
         "num_ratings": 7511380,
         "avg_rating": 4.48,
         "num_pages": 309,
         "original_publish_year": 1997,
         "series": "True",
         "genres": "['Fantasy', 'Fiction', 'Young Adult']",
         "awards": "Mythopoeic Fantasy Award for Children's Literature (2008), British Book Award for Children's Book o…",
         "places": "United Kingdom",
         "awards_count": 27,
         "avg_rating_mean_norm": 7.300441162518582,
         "new_rating": 9.21359223300971,
         "_deepnote_index_column": 2
        },
        {
         "Unnamed: 0": 3,
         "url": "https://www.goodreads.com/book/show/4671.The_Great_Gatsby",
         "title": "The Great Gatsby",
         "author": "F. Scott Fitzgerald, ",
         "num_reviews": 71655,
         "num_ratings": 3980916,
         "avg_rating": 3.93,
         "num_pages": 200,
         "original_publish_year": 1925,
         "series": "False",
         "genres": "['Classics', 'Fiction', 'Academic']",
         "awards": "Grammy Award Nominee for Best Spoken Word Album (2003), Long Island Reads (2002)",
         "places": "United States",
         "awards_count": 2,
         "avg_rating_mean_norm": 4.897528541159358,
         "new_rating": 4.407766990291263,
         "_deepnote_index_column": 3
        },
        {
         "Unnamed: 0": 4,
         "url": "https://www.goodreads.com/book/show/170448.Animal_Farm",
         "title": "Animal Farm",
         "author": "George Orwell, ",
         "num_reviews": 61102,
         "num_ratings": 2911765,
         "avg_rating": 3.96,
         "num_pages": 141,
         "original_publish_year": 1945,
         "series": "False",
         "genres": "['Classics', 'Fiction', 'Science Fiction']",
         "awards": "Prometheus Hall of Fame Award (2011), Retro Hugo Award for Best Novella (1996)",
         "places": "nan",
         "awards_count": 2,
         "avg_rating_mean_norm": 5.0285965023244055,
         "new_rating": 4.669902912621358,
         "_deepnote_index_column": 4
        }
       ],
       "rows_bottom": null
      },
      "text/plain": "   Unnamed: 0                                                url  \\\n0           0  https://www.goodreads.com/book/show/2657.To_Ki...   \n1           1  https://www.goodreads.com/book/show/40961427-1984   \n2           2  https://www.goodreads.com/book/show/3.Harry_Po...   \n3           3  https://www.goodreads.com/book/show/4671.The_G...   \n4           4  https://www.goodreads.com/book/show/170448.Ani...   \n\n                                   title                 author  num_reviews  \\\n0                  To Kill a Mockingbird             Harper Lee        95178   \n1                                   1984          George Orwell        76077   \n2  Harry Potter and the Sorcerer's Stone         J.K. Rowling,        119110   \n3                       The Great Gatsby  F. Scott Fitzgerald,         71655   \n4                            Animal Farm        George Orwell,         61102   \n\n   num_ratings  avg_rating  num_pages  original_publish_year  series  \\\n0      4751916        4.28        324                   1960    True   \n1      3365418        4.19        237                   1949   False   \n2      7511380        4.48        309                   1997    True   \n3      3980916        3.93        200                   1925   False   \n4      2911765        3.96        141                   1945   False   \n\n                                       genres  \\\n0       ['Classics', 'Fiction', 'Historical']   \n1  ['Classics', 'Fiction', 'Science Fiction']   \n2       ['Fantasy', 'Fiction', 'Young Adult']   \n3         ['Classics', 'Fiction', 'Academic']   \n4  ['Classics', 'Fiction', 'Science Fiction']   \n\n                                              awards          places  \\\n0  Pulitzer Prize for Fiction (1961), Audie Award...   United States   \n1  Prometheus Hall of Fame Award (1984), Locus Aw...  United Kingdom   \n2  Mythopoeic Fantasy Award for Children's Litera...  United Kingdom   \n3  Grammy Award Nominee for Best Spoken Word Albu...   United States   \n4  Prometheus Hall of Fame Award (2011), Retro Hu...             NaN   \n\n   awards_count  avg_rating_mean_norm  new_rating  \n0             4              6.426655    7.466019  \n1             2              6.033451    6.679612  \n2            27              7.300441    9.213592  \n3             2              4.897529    4.407767  \n4             2              5.028597    4.669903  ",
      "text/html": "<div>\n<style scoped>\n    .dataframe tbody tr th:only-of-type {\n        vertical-align: middle;\n    }\n\n    .dataframe tbody tr th {\n        vertical-align: top;\n    }\n\n    .dataframe thead th {\n        text-align: right;\n    }\n</style>\n<table border=\"1\" class=\"dataframe\">\n  <thead>\n    <tr style=\"text-align: right;\">\n      <th></th>\n      <th>Unnamed: 0</th>\n      <th>url</th>\n      <th>title</th>\n      <th>author</th>\n      <th>num_reviews</th>\n      <th>num_ratings</th>\n      <th>avg_rating</th>\n      <th>num_pages</th>\n      <th>original_publish_year</th>\n      <th>series</th>\n      <th>genres</th>\n      <th>awards</th>\n      <th>places</th>\n      <th>awards_count</th>\n      <th>avg_rating_mean_norm</th>\n      <th>new_rating</th>\n    </tr>\n  </thead>\n  <tbody>\n    <tr>\n      <th>0</th>\n      <td>0</td>\n      <td>https://www.goodreads.com/book/show/2657.To_Ki...</td>\n      <td>To Kill a Mockingbird</td>\n      <td>Harper Lee</td>\n      <td>95178</td>\n      <td>4751916</td>\n      <td>4.28</td>\n      <td>324</td>\n      <td>1960</td>\n      <td>True</td>\n      <td>['Classics', 'Fiction', 'Historical']</td>\n      <td>Pulitzer Prize for Fiction (1961), Audie Award...</td>\n      <td>United States</td>\n      <td>4</td>\n      <td>6.426655</td>\n      <td>7.466019</td>\n    </tr>\n    <tr>\n      <th>1</th>\n      <td>1</td>\n      <td>https://www.goodreads.com/book/show/40961427-1984</td>\n      <td>1984</td>\n      <td>George Orwell</td>\n      <td>76077</td>\n      <td>3365418</td>\n      <td>4.19</td>\n      <td>237</td>\n      <td>1949</td>\n      <td>False</td>\n      <td>['Classics', 'Fiction', 'Science Fiction']</td>\n      <td>Prometheus Hall of Fame Award (1984), Locus Aw...</td>\n      <td>United Kingdom</td>\n      <td>2</td>\n      <td>6.033451</td>\n      <td>6.679612</td>\n    </tr>\n    <tr>\n      <th>2</th>\n      <td>2</td>\n      <td>https://www.goodreads.com/book/show/3.Harry_Po...</td>\n      <td>Harry Potter and the Sorcerer's Stone</td>\n      <td>J.K. Rowling,</td>\n      <td>119110</td>\n      <td>7511380</td>\n      <td>4.48</td>\n      <td>309</td>\n      <td>1997</td>\n      <td>True</td>\n      <td>['Fantasy', 'Fiction', 'Young Adult']</td>\n      <td>Mythopoeic Fantasy Award for Children's Litera...</td>\n      <td>United Kingdom</td>\n      <td>27</td>\n      <td>7.300441</td>\n      <td>9.213592</td>\n    </tr>\n    <tr>\n      <th>3</th>\n      <td>3</td>\n      <td>https://www.goodreads.com/book/show/4671.The_G...</td>\n      <td>The Great Gatsby</td>\n      <td>F. Scott Fitzgerald,</td>\n      <td>71655</td>\n      <td>3980916</td>\n      <td>3.93</td>\n      <td>200</td>\n      <td>1925</td>\n      <td>False</td>\n      <td>['Classics', 'Fiction', 'Academic']</td>\n      <td>Grammy Award Nominee for Best Spoken Word Albu...</td>\n      <td>United States</td>\n      <td>2</td>\n      <td>4.897529</td>\n      <td>4.407767</td>\n    </tr>\n    <tr>\n      <th>4</th>\n      <td>4</td>\n      <td>https://www.goodreads.com/book/show/170448.Ani...</td>\n      <td>Animal Farm</td>\n      <td>George Orwell,</td>\n      <td>61102</td>\n      <td>2911765</td>\n      <td>3.96</td>\n      <td>141</td>\n      <td>1945</td>\n      <td>False</td>\n      <td>['Classics', 'Fiction', 'Science Fiction']</td>\n      <td>Prometheus Hall of Fame Award (2011), Retro Hu...</td>\n      <td>NaN</td>\n      <td>2</td>\n      <td>5.028597</td>\n      <td>4.669903</td>\n    </tr>\n  </tbody>\n</table>\n</div>"
     },
     "metadata": {}
    }
   ],
   "execution_count": 84
  },
  {
   "cell_type": "code",
   "source": "# Changing awards to numerical column\n\n# pd.set_option('display.max_colwidth', None)\n# df['awards'].sample(5)\ndf['awards_numeric'] = df['awards'].str.split(',').str.len()",
   "metadata": {
    "tags": [],
    "cell_id": "00018-ee77cc21-4fb5-460f-b662-c802ac1fb8ef",
    "deepnote_to_be_reexecuted": false,
    "source_hash": "c0903a95",
    "execution_start": 1624017589573,
    "execution_millis": 10,
    "deepnote_cell_type": "code"
   },
   "outputs": [
    {
     "output_type": "execute_result",
     "execution_count": 91,
     "data": {
      "text/plain": "349                  Pulitzer Prize for Special Citation (1992), American Book Award (1992)\n396                                                        Pulitzer Prize for Poetry (1931)\n306                                         National Book Award Finalist for Fiction (1989)\n323                            National Book Award Finalist for Contemporary Affairs (1975)\n421    Premio de traducción literaria Valle Inclán Nominee for Margaret Sayers Peden (2000)\nName: awards, dtype: object"
     },
     "metadata": {}
    }
   ],
   "execution_count": 91
  },
  {
   "cell_type": "code",
   "source": "",
   "metadata": {
    "tags": [],
    "cell_id": "00019-dfe2499d-ee93-46cb-bf54-3ea7eecad14b",
    "deepnote_to_be_reexecuted": false,
    "source_hash": "24818ddd",
    "execution_start": 1624017785041,
    "execution_millis": 9,
    "deepnote_cell_type": "code"
   },
   "outputs": [
    {
     "output_type": "execute_result",
     "execution_count": 99,
     "data": {
      "text/plain": "0       4\n1       2\n2      27\n3       2\n4       2\n       ..\n609     4\n610     1\n611     1\n612     3\n613     2\nName: awards, Length: 614, dtype: int64"
     },
     "metadata": {}
    }
   ],
   "execution_count": 99
  },
  {
   "cell_type": "code",
   "source": "print (df['new_rating'])\ndf['avg_rating_mean_norm'] ",
   "metadata": {
    "tags": [],
    "cell_id": "00020-9997a16d-fb77-42a3-ad5f-1894bcbd1534",
    "deepnote_to_be_reexecuted": false,
    "source_hash": "813223ff",
    "execution_start": 1624021048431,
    "execution_millis": 10,
    "deepnote_cell_type": "code"
   },
   "outputs": [
    {
     "name": "stdout",
     "text": "0      7.466019\n1      6.679612\n2      9.213592\n3      4.407767\n4      4.669903\n         ...   \n609    6.417476\n610    5.805825\n611    6.504854\n612    5.194175\n613    6.067961\nName: new_rating, Length: 614, dtype: float64\n",
     "output_type": "stream"
    },
    {
     "output_type": "execute_result",
     "execution_count": 104,
     "data": {
      "text/plain": "0      6.426655\n1      6.033451\n2      7.300441\n3      4.897529\n4      5.028597\n         ...   \n609    5.902383\n610    5.596558\n611    5.946072\n612    5.290732\n613    5.727626\nName: avg_rating_mean_norm, Length: 614, dtype: float64"
     },
     "metadata": {}
    }
   ],
   "execution_count": 104
  },
  {
   "cell_type": "code",
   "source": "analyse_report = sv.analyse(df)\nanalyse_report.show_html ('analyse.html', open_browser = True)\n",
   "metadata": {
    "tags": [],
    "cell_id": "00023-58b6985f-5bcb-4790-80e5-36d02822fee0",
    "deepnote_to_be_reexecuted": false,
    "source_hash": "ab94ed1d",
    "execution_start": 1624031046134,
    "execution_millis": 5,
    "deepnote_cell_type": "code"
   },
   "outputs": [
    {
     "output_type": "error",
     "ename": "NameError",
     "evalue": "name 'sv' is not defined",
     "traceback": [
      "\u001b[0;31m---------------------------------------------------------------------------\u001b[0m",
      "\u001b[0;31mNameError\u001b[0m                                 Traceback (most recent call last)",
      "\u001b[0;32m<ipython-input-128-855dd45ce87e>\u001b[0m in \u001b[0;36m<module>\u001b[0;34m\u001b[0m\n\u001b[0;32m----> 1\u001b[0;31m \u001b[0manalyse_report\u001b[0m \u001b[0;34m=\u001b[0m \u001b[0msv\u001b[0m\u001b[0;34m.\u001b[0m\u001b[0manalyse\u001b[0m\u001b[0;34m(\u001b[0m\u001b[0mdf\u001b[0m\u001b[0;34m)\u001b[0m\u001b[0;34m\u001b[0m\u001b[0;34m\u001b[0m\u001b[0m\n\u001b[0m\u001b[1;32m      2\u001b[0m \u001b[0manalyse_report\u001b[0m\u001b[0;34m.\u001b[0m\u001b[0mshow_html\u001b[0m \u001b[0;34m(\u001b[0m\u001b[0;34m'analyse.html'\u001b[0m\u001b[0;34m,\u001b[0m \u001b[0mopen_browser\u001b[0m \u001b[0;34m=\u001b[0m \u001b[0;32mTrue\u001b[0m\u001b[0;34m)\u001b[0m\u001b[0;34m\u001b[0m\u001b[0;34m\u001b[0m\u001b[0m\n",
      "\u001b[0;31mNameError\u001b[0m: name 'sv' is not defined"
     ]
    }
   ],
   "execution_count": 128
  },
  {
   "cell_type": "markdown",
   "source": "<a style='text-decoration:none;line-height:16px;display:flex;color:#5B5B62;padding:10px;justify-content:end;' href='https://deepnote.com?utm_source=created-in-deepnote-cell&projectId=ea77beab-a0d0-4c78-9888-3fa264f1f591' target=\"_blank\">\n<img alt='Created in deepnote.com' style='display:inline;max-height:16px;margin:0px;margin-right:7.5px;' src='data:image/svg+xml;base64,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' > </img>\nCreated in <span style='font-weight:600;margin-left:4px;'>Deepnote</span></a>",
   "metadata": {
    "tags": [],
    "created_in_deepnote_cell": true,
    "deepnote_cell_type": "markdown"
   }
  }
 ],
 "nbformat": 4,
 "nbformat_minor": 2,
 "metadata": {
  "orig_nbformat": 2,
  "deepnote": {
   "is_reactive": false
  },
  "deepnote_notebook_id": "aca02484-8e67-45e1-8397-99681d9a1068",
  "deepnote_execution_queue": []
 }
}